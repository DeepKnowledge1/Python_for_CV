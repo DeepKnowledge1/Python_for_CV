{
  "cells": [
    {
      "cell_type": "markdown",
      "metadata": {},
      "source": [
        "# 📚 Comprehensive Guide: \n",
        "### Reading Input & Displaying Output with OpenCV & Pillow\n",
        "\n",
        "## 📌 Table of Contents\n",
        "\n",
        "1. 🧠 Introduction  \n",
        "2. ⚙️ Installation  \n",
        "3. 🖼️ Reading Images (Input)  \n",
        "4. 👁️ Displaying Images (Output)  \n",
        "5. 🎥 Reading Video or Webcam (OpenCV Only)  \n",
        "6. 💾 Saving Images (Output to File)  \n",
        "7. 🧾 Supported File Formats  \n",
        "8. 🛠️ Common Image Operations  \n",
        "9. 🧙‍♂️ Tips, Tricks & Best Practices  \n",
        "10. ⚔️ OpenCV vs Pillow: Feature Comparison \n",
        "11. 🏆 Benchmark  \n",
        "12. 💼 Interview Questions  \n",
        "13. ✅ Final Quiz  \n",
        "14. 🧩 What’s Next?\n",
        "    \n"
      ]
    },
    {
      "cell_type": "markdown",
      "metadata": {},
      "source": [
        "## ⚙️ Installation"
      ]
    },
    {
      "cell_type": "code",
      "execution_count": null,
      "metadata": {},
      "outputs": [],
      "source": [
        "## !pip install opencv-python pillow\n",
        "\n",
        "! poetry add opencv-python pillow "
      ]
    },
    {
      "cell_type": "markdown",
      "metadata": {},
      "source": [
        "## 🖼️ Reading Images (Input)"
      ]
    },
    {
      "cell_type": "code",
      "execution_count": 18,
      "metadata": {},
      "outputs": [
        {
          "name": "stdout",
          "output_type": "stream",
          "text": [
            "shape (Height, width, channel):  (379, 512, 3)\n",
            "image type:  uint8\n",
            "image size:  582144\n",
            "Pil image RGB , Size: (512, 379)\n"
          ]
        }
      ],
      "source": [
        "\n",
        "# OpenCV Read\n",
        "import cv2 as cv\n",
        "\n",
        "from PIL import Image\n",
        "\n",
        "img_cv = cv.imread(\"./img1.jpg\")\n",
        "\n",
        "if img_cv is None:\n",
        "    raise \"Error : Imahe not found\"\n",
        "    \n",
        "\n",
        "print(\"shape (Height, width, channel): \",img_cv.shape)\n",
        "print(\"image type: \", img_cv.dtype)\n",
        "print(\"image size: \", img_cv.size)\n",
        "\n",
        "\n",
        "try:    \n",
        "\n",
        "    img_pil = Image.open(\"./img1.jpg\")\n",
        "    print(f\"Pil image {img_pil.mode} , Size: {img_pil.size}\")\n",
        "except FileExistsError:\n",
        "    print(\"Error: image not found\")\n",
        "# Pillow Read\n",
        "    "
      ]
    },
    {
      "cell_type": "markdown",
      "metadata": {},
      "source": [
        "## 👁️ Displaying Images (Output)"
      ]
    },
    {
      "cell_type": "code",
      "execution_count": 22,
      "metadata": {},
      "outputs": [],
      "source": [
        "# OpenCV Display\n",
        "cv.imshow(\"Opencv image\", img_cv)\n",
        "cv.waitKey(2000)\n",
        "cv.destroyAllWindows()\n"
      ]
    },
    {
      "cell_type": "code",
      "execution_count": 23,
      "metadata": {},
      "outputs": [],
      "source": [
        "# Pillow Display\n",
        "# Opens in default viewer\n",
        "img_pil.show()\n"
      ]
    },
    {
      "cell_type": "markdown",
      "metadata": {},
      "source": [
        "## 🎥 Reading Video or Webcam (OpenCV Only)"
      ]
    },
    {
      "cell_type": "code",
      "execution_count": null,
      "metadata": {},
      "outputs": [],
      "source": [
        "cap = cv.VideoCapture(0)\n",
        "# cap = cv2.VideoCapture('video.mp4')\n",
        "\n",
        "while True:\n",
        "    ret ,frame = cap.read()\n",
        "    \n",
        "    if not ret:\n",
        "        break\n",
        "    \n",
        "    gray = cv.cvtColor(frame, cv.COLOR_BGR2GRAY)\n",
        "    cv.imshow(\"Webcam\", frame)\n",
        "    cv.imshow(\"Gray \", gray)\n",
        "    \n",
        "    if cv.waitKey(1) == ord('q'):\n",
        "        break\n",
        "    \n",
        "        \n",
        "cap.release()\n",
        "cv.destroyAllWindows()\n",
        "    "
      ]
    },
    {
      "cell_type": "markdown",
      "metadata": {},
      "source": [
        "### Video"
      ]
    },
    {
      "cell_type": "code",
      "execution_count": null,
      "metadata": {},
      "outputs": [],
      "source": [
        "cap = cv.VideoCapture('video.mp4')\n",
        "\n",
        "while True:\n",
        "    ret ,frame = cap.read()\n",
        "    \n",
        "    if not ret:\n",
        "        break\n",
        "    \n",
        "    gray = cv.cvtColor(frame, cv.COLOR_BGR2GRAY)\n",
        "    cv.imshow(\"Webcam\", frame)\n",
        "    cv.imshow(\"Gray \", gray)\n",
        "    \n",
        "    if cv.waitKey(1) == ord('q'):\n",
        "        break\n",
        "    \n",
        "        \n",
        "cap.release()\n",
        "cv.destroyAllWindows()\n",
        "    "
      ]
    },
    {
      "cell_type": "markdown",
      "metadata": {},
      "source": [
        "## 💾 Saving Images (Output to File)"
      ]
    },
    {
      "cell_type": "code",
      "execution_count": 28,
      "metadata": {},
      "outputs": [],
      "source": [
        "# Save with OpenCV\n",
        "\n",
        "cv.imwrite(\"output_cv.png\",img_cv)\n",
        "# Save with Pillow\n",
        "\n",
        "img_pil.save(\"output_pil.png\")\n"
      ]
    },
    {
      "cell_type": "markdown",
      "metadata": {},
      "source": [
        "## 🛠️ Common Image Operations"
      ]
    },
    {
      "cell_type": "code",
      "execution_count": 29,
      "metadata": {},
      "outputs": [],
      "source": [
        "# Convert to grayscale\n",
        "gray_cv = cv.cvtColor(img_cv, cv.COLOR_BGR2GRAY)\n",
        "gray_pil = img_pil.convert(\"L\")\n",
        "gray_pil.show()\n"
      ]
    },
    {
      "cell_type": "code",
      "execution_count": 30,
      "metadata": {},
      "outputs": [],
      "source": [
        "# Resize\n",
        "resized_cv = cv.resize(img_cv, (200,200))\n",
        "resized_pil = img_pil.resize((200,200))\n",
        "\n",
        "resized_pil.show()\n"
      ]
    },
    {
      "cell_type": "code",
      "execution_count": 32,
      "metadata": {},
      "outputs": [],
      "source": [
        "# Rotate\n",
        "\n",
        "# Save with OpenCV\n",
        "rows,cols = img_cv.shape[:2]\n",
        "M = cv.getRotationMatrix2D((cols/2,rows/2), 45, 1)\n",
        "rotated_cv = cv.warpAffine(img_cv,M,(rows,cols))\n",
        "\n",
        "rotated_pil = img_pil.rotate(45)\n",
        "\n",
        "\n",
        "cv.imshow(\"rotated_cv\",rotated_cv)\n",
        "cv.waitKey(0)\n",
        "cv.destroyAllWindows()\n",
        "rotated_pil.show()\n",
        "\n",
        "\n",
        "\n",
        "\n",
        "# Save with Pillow\n"
      ]
    },
    {
      "cell_type": "markdown",
      "metadata": {},
      "source": [
        "# Empty image"
      ]
    },
    {
      "cell_type": "code",
      "execution_count": null,
      "metadata": {},
      "outputs": [],
      "source": [
        "import numpy as np\n",
        "\n",
        "height, width = 400,400\n",
        "black_cv = np.zeros((height,width,3), dtype=np.uint8)\n",
        "\n",
        "white_cv = np.ones((height,width,3), dtype=np.uint8)*255\n",
        "cv.imshow(\"black_cv\",black_cv)\n",
        "cv.imshow(\"white_cv\",white_cv)\n",
        "cv.waitKey(0)\n",
        "cv.destroyAllWindows()\n",
        "\n"
      ]
    },
    {
      "cell_type": "code",
      "execution_count": 38,
      "metadata": {},
      "outputs": [],
      "source": [
        "black_pil = Image.new(\"RGB\", (width,height))\n",
        "# gray_pil = Image.new(\"L\", (width,height))\n",
        "\n",
        "white_pil = Image.new(\"RGB\", (width,height),color=\"white\")\n",
        "white_pil.show()\n"
      ]
    },
    {
      "cell_type": "markdown",
      "metadata": {},
      "source": [
        "## 🧙‍♂️ Tips, Tricks & Best Practices"
      ]
    },
    {
      "cell_type": "markdown",
      "metadata": {},
      "source": [
        "### RGB vs BGR"
      ]
    },
    {
      "cell_type": "code",
      "execution_count": 40,
      "metadata": {},
      "outputs": [],
      "source": [
        "# Conversion between Pillow and OpenCV\n",
        "rbg = cv.cvtColor(img_cv, cv.COLOR_BGR2RGB)\n",
        "\n",
        "cv.imshow(\"bgr\",img_cv)\n",
        "cv.imshow(\"rbg\",rbg)\n",
        "cv.waitKey(0)\n",
        "cv.destroyAllWindows()\n",
        "\n",
        "\n"
      ]
    },
    {
      "cell_type": "markdown",
      "metadata": {},
      "source": [
        "## Convert between them"
      ]
    },
    {
      "cell_type": "code",
      "execution_count": 45,
      "metadata": {},
      "outputs": [
        {
          "name": "stdout",
          "output_type": "stream",
          "text": [
            "(379, 512, 3)\n"
          ]
        }
      ],
      "source": [
        "pil2cv = np.array(img_pil)\n",
        "pil2cv = cv.cvtColor(pil2cv, cv.COLOR_RGB2BGR)\n",
        "# img_pil.show()\n",
        "print(pil2cv.shape)\n",
        "cv.imshow(\"pil2cv\",pil2cv)\n",
        "cv.waitKey(0)\n",
        "cv.destroyAllWindows()\n"
      ]
    },
    {
      "cell_type": "code",
      "execution_count": 50,
      "metadata": {},
      "outputs": [],
      "source": [
        "cv2pil = cv.cvtColor(img_cv, cv.COLOR_BGR2RGB)\n",
        "\n",
        "cv2pil = Image.fromarray(cv2pil)\n",
        "\n",
        "cv2pil.show()\n",
        "\n",
        "\n"
      ]
    },
    {
      "cell_type": "markdown",
      "metadata": {},
      "source": [
        "## 🏆 Benchmark "
      ]
    },
    {
      "cell_type": "code",
      "execution_count": 62,
      "metadata": {},
      "outputs": [
        {
          "name": "stdout",
          "output_type": "stream",
          "text": [
            "OpenCV : 0.0343 s\n",
            "PIL : 0.0370 s\n"
          ]
        }
      ],
      "source": [
        "from time import time\n",
        "import cv2 as cv\n",
        "\n",
        "\n",
        "start_time = time()\n",
        "for _ in range(20):\n",
        "    cv_img = cv.imread(\"./img1.jpg\")\n",
        "    \n",
        "print(f\"OpenCV : {time() - start_time:.4f} s\")\n",
        "\n",
        "\n",
        "\n",
        "start_time = time()\n",
        "for _ in range(20):\n",
        "    pil_img = Image.open(\"./img1.jpg\")\n",
        "    pil_img.load()\n",
        "    \n",
        "print(f\"PIL : {time() - start_time:.4f} s\")\n",
        "\n",
        "\n"
      ]
    },
    {
      "cell_type": "markdown",
      "metadata": {},
      "source": [
        "## ⚔️ OpenCV vs Pillow: Feature Comparison"
      ]
    },
    {
      "cell_type": "markdown",
      "metadata": {},
      "source": [
        "| Feature | OpenCV | Pillow |\n",
        "|--------|--------|--------|\n",
        "| Color Space | BGR | RGB |\n",
        "| Display Method | `cv2.imshow()` | `img.show()` |\n",
        "| Image Type | NumPy Array | PIL.Image Object |\n",
        "| Video Support | ✅ | ❌ |\n",
        "| Performance | High | Moderate |\n",
        "| Learning Curve | Steeper | Gentle |"
      ]
    },
    {
      "cell_type": "markdown",
      "metadata": {},
      "source": [
        "## 💼 Interview Questions"
      ]
    },
    {
      "cell_type": "markdown",
      "metadata": {},
      "source": [
        "### Basic\n",
        "1. How do you read an image using OpenCV?\n",
        "2. How do you display an image using Pillow?\n",
        "3. Why does `cv2.imshow()` sometimes not show anything?\n",
        "4. What is the difference between `cv2.imread()` and `Image.open()`?\n",
        "5. Why do we convert colors when switching between libraries?"
      ]
    },
    {
      "cell_type": "markdown",
      "metadata": {},
      "source": [
        "### Intermediate\n",
        "6. How do you resize an image before displaying it?\n",
        "7. How do you save an image after modifying it?\n",
        "8. Explain why Pillow might be preferred over OpenCV for simple tasks.\n",
        "9. What happens if you try to display a Pillow image using `cv2.imshow()`?\n",
        "10. How would you create a program that takes an image path from the user and shows it using OpenCV?"
      ]
    },
    {
      "cell_type": "markdown",
      "metadata": {},
      "source": [
        "### Advanced\n",
        "11. How would you write a function that reads an image and displays it using either OpenCV or Pillow based on user input?\n",
        "12. How do you handle different color spaces in both libraries?\n",
        "13. Compare performance considerations when choosing between OpenCV and Pillow.\n",
        "14. How would you write a hybrid script that uses both libraries?\n",
        "15. How would you develop a real-time filter app using OpenCV?"
      ]
    },
    {
      "cell_type": "markdown",
      "metadata": {},
      "source": [
        "## ✅ Final Quiz"
      ]
    },
    {
      "cell_type": "markdown",
      "metadata": {},
      "source": [
        "### Multiple Choice Questions\n",
        "1. Which library uses BGR by default?\n",
        "   A. Pillow\n",
        "   B. OpenCV\n",
        "   C. Both\n",
        "   D. Neither\n",
        "\n",
        "2. To display an image using OpenCV, which function is used?\n",
        "   A. `img.show()`\n",
        "   B. `cv2.display()`\n",
        "   C. `cv2.imshow()`\n",
        "   D. `cv2.plot()`\n",
        "\n",
        "3. Which one is slower for basic image display?\n",
        "   A. OpenCV\n",
        "   B. Pillow\n",
        "   C. Same speed\n",
        "   D. Depends on OS\n",
        "\n",
        "4. What is the output of `img.shape` for a color image in OpenCV?\n",
        "   A. (width, height)\n",
        "   B. (height, width, channels)\n",
        "   C. (channels, width, height)\n",
        "   D. (width, channels, height)\n",
        "\n",
        "5. Can you use `cv2.imshow()` to display a Pillow image directly?\n",
        "   A. Yes\n",
        "   B. No\n",
        "   C. Only in grayscale\n",
        "   D. Only if converted to NumPy"
      ]
    },
    {
      "cell_type": "markdown",
      "metadata": {},
      "source": [
        "### ✅ Answers\n",
        "1. B\n",
        "2. C\n",
        "3. B\n",
        "4. B\n",
        "5. B"
      ]
    }
  ],
  "metadata": {
    "kernelspec": {
      "display_name": "python-for-cv-xQdks3oV-py3.11",
      "language": "python",
      "name": "python3"
    },
    "language_info": {
      "codemirror_mode": {
        "name": "ipython",
        "version": 3
      },
      "file_extension": ".py",
      "mimetype": "text/x-python",
      "name": "python",
      "nbconvert_exporter": "python",
      "pygments_lexer": "ipython3",
      "version": "3.11.0"
    }
  },
  "nbformat": 4,
  "nbformat_minor": 4
}
