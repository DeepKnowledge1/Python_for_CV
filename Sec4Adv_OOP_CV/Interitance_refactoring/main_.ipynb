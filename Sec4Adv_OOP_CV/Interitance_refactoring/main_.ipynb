{
 "cells": [
  {
   "cell_type": "code",
   "execution_count": 1,
   "id": "178a7a1d",
   "metadata": {},
   "outputs": [],
   "source": [
    "\n",
    "from BaseImageProcessor import BaseImageProcessor\n",
    "\n"
   ]
  },
  {
   "cell_type": "code",
   "execution_count": 2,
   "id": "b0e12d28",
   "metadata": {},
   "outputs": [
    {
     "name": "stdout",
     "output_type": "stream",
     "text": [
      "🖼️ Base processor created for ./class.png\n",
      "BaseImageProcessor can load: True\n",
      "BaseImageProcessor can resize: False\n"
     ]
    }
   ],
   "source": [
    "proccessor = BaseImageProcessor(filename=\"./class.png\")\n",
    "\n",
    "# proccessor.load().display()\n",
    "\n",
    "print(f\"BaseImageProcessor can load: {hasattr(proccessor,'load')}\")\n",
    "print(f\"BaseImageProcessor can resize: {hasattr(proccessor,'resize')}\")\n",
    "\n"
   ]
  },
  {
   "cell_type": "code",
   "execution_count": 3,
   "id": "12e2db7f",
   "metadata": {},
   "outputs": [],
   "source": [
    "from FilterProcessor import FilterProcessor"
   ]
  },
  {
   "cell_type": "code",
   "execution_count": 4,
   "id": "f947bcb9",
   "metadata": {},
   "outputs": [
    {
     "name": "stdout",
     "output_type": "stream",
     "text": [
      "🖼️ Base processor created for ./class.png\n",
      "✅ Image loaded: ./class.png\n",
      "✨ Applied bilateral filter (edge-preserving)\n",
      "🔪 Image sharpened\n",
      "💾 Image saved: class_processed.png\n"
     ]
    },
    {
     "data": {
      "text/plain": [
       "<FilterProcessor.FilterProcessor at 0x22aeec02990>"
      ]
     },
     "execution_count": 4,
     "metadata": {},
     "output_type": "execute_result"
    }
   ],
   "source": [
    "proccessor = FilterProcessor(filename=\"./class.png\")\n",
    "\n",
    "proccessor.load().resize(50,50).apply_bilateral_filter().sharpen().save()"
   ]
  },
  {
   "cell_type": "code",
   "execution_count": 5,
   "id": "0c1ccc00",
   "metadata": {},
   "outputs": [
    {
     "name": "stdout",
     "output_type": "stream",
     "text": [
      "🖼️ Base processor created for ./class.png\n",
      "=== FilterProcessor Capabilities ===\n",
      "Total methods: 12\n",
      "✅ Image loaded: ./class.png\n",
      "💾 Image saved: class_processed.png\n"
     ]
    },
    {
     "data": {
      "text/plain": [
       "<BasicImageProcessor.BasicImageProcessor at 0x22aeec0cf10>"
      ]
     },
     "execution_count": 5,
     "metadata": {},
     "output_type": "execute_result"
    }
   ],
   "source": [
    "\n",
    "\n",
    "\n",
    "from BasicImageProcessor import BasicImageProcessor\n",
    "\n",
    "proccessor = BasicImageProcessor(filename=\"./class.png\")\n",
    "\n",
    "print(\"=== FilterProcessor Capabilities ===\")\n",
    "print(f\"Total methods: {len([m for m in dir(proccessor) if not m.startswith('_')])}\")\n",
    "\n",
    "# It can do EVERYTHING!\n",
    "\n",
    "proccessor.load().to_grayscale().rotate(90).save()"
   ]
  },
  {
   "cell_type": "code",
   "execution_count": 6,
   "id": "e00af904",
   "metadata": {},
   "outputs": [
    {
     "name": "stdout",
     "output_type": "stream",
     "text": [
      "🚀 Let's see INHERITANCE in ACTION! 🚀\n",
      "==================================================\n",
      "Imagine you want to process images...\n",
      "\n",
      "Step 1: Basic Processing ✂️\n",
      "🖼️ Base processor created for ./class.png\n",
      "✅ Image loaded: ./class.png\n",
      "💾 Image saved: class_processed.png\n",
      "BasicImageProcessor can: resize, grayscale, crop, rotate...\n",
      "\n",
      "Step 2: Now you need FILTERS! 💧\n",
      "🖼️ Base processor created for ./class.png\n",
      "✅ Image loaded: ./class.png\n",
      "🌫️ Applied Gaussian blur with kernel (5, 5)\n",
      "🔪 Image sharpened\n",
      "💾 Image saved: class_processed.png\n",
      "FilterProcessor can do everything Basic can, PLUS filtering!\n",
      "\n",
      "Step 3: Detecting EDGES? 🪄\n",
      "🖼️ Base processor created for ./class.png\n",
      "✅ Image loaded: ./class.png\n",
      "🔍 Canny edge detection applied (thresholds: 100, 200)\n",
      "💾 Image saved: class_processed.png\n",
      "EdgeDetectionProcessor adds edge detection superpowers!\n",
      "\n",
      "Step 4: ALL-IN-ONE MAGICIAN 🎩✨\n",
      "🖼️ Base processor created for ./class.png\n",
      "✅ Image loaded: ./class.png\n",
      "🌫️ Applied Gaussian blur with kernel (5, 5)\n",
      "📐 Sobel edge detection applied (dx=1, dy=1)\n",
      "🌟 Contrast enhanced (alpha=1.5, beta=0)\n",
      "💾 Image saved: class_processed.png\n",
      "AdvancedProcessor = Basic + Filter + Edge + Advanced tricks!\n",
      "\n",
      "==================================================\n",
      "💡 Thanks to INHERITANCE, we:\n",
      "  • Build complex tools from simple blocks\n",
      "  • Reuse and extend features easily\n",
      "  • Write less code, get more done!\n",
      "==================================================\n",
      "Ready to power up your code with inheritance? 😎\n"
     ]
    }
   ],
   "source": [
    "\n",
    "from BaseImageProcessor import BaseImageProcessor\n",
    "\n",
    "from BasicImageProcessor import BasicImageProcessor\n",
    "from FilterProcessor import FilterProcessor\n",
    "from EdgeDetectionProcessor import EdgeDetectionProcessor\n",
    "from AdvancedProcessor import AdvancedProcessor\n",
    "\n",
    "\n",
    "\n",
    "print(\"🚀 Let's see INHERITANCE in ACTION! 🚀\")\n",
    "print(\"=\" * 50)\n",
    "print(\"Imagine you want to process images...\\n\")\n",
    "\n",
    "print(\"Step 1: Basic Processing ✂️\")\n",
    "basic = BasicImageProcessor(\"./class.png\")\n",
    "basic.load().resize(200, 200).to_grayscale().save()\n",
    "print(\"BasicImageProcessor can: resize, grayscale, crop, rotate...\")\n",
    "\n",
    "print(\"\\nStep 2: Now you need FILTERS! 💧\")\n",
    "filt = FilterProcessor(\"./class.png\")\n",
    "filt.load().apply_blur().sharpen().save()\n",
    "print(\"FilterProcessor can do everything Basic can, PLUS filtering!\")\n",
    "\n",
    "print(\"\\nStep 3: Detecting EDGES? 🪄\")\n",
    "edge = EdgeDetectionProcessor(\"./class.png\")\n",
    "edge.load().detect_edges_canny().save()\n",
    "print(\"EdgeDetectionProcessor adds edge detection superpowers!\")\n",
    "\n",
    "print(\"\\nStep 4: ALL-IN-ONE MAGICIAN 🎩✨\")\n",
    "pro = AdvancedProcessor(\"./class.png\")\n",
    "pro.load().resize(300, 300).apply_blur().detect_edges_sobel().enhance_contrast().save()\n",
    "print(\"AdvancedProcessor = Basic + Filter + Edge + Advanced tricks!\\n\")\n",
    "\n",
    "print(\"=\" * 50)\n",
    "print(\"💡 Thanks to INHERITANCE, we:\")\n",
    "print(\"  • Build complex tools from simple blocks\")\n",
    "print(\"  • Reuse and extend features easily\")\n",
    "print(\"  • Write less code, get more done!\")\n",
    "print(\"=\" * 50)\n",
    "print(\"Ready to power up your code with inheritance? 😎\")\n",
    "\n"
   ]
  }
 ],
 "metadata": {
  "kernelspec": {
   "display_name": "python-for-cv-xQdks3oV-py3.11",
   "language": "python",
   "name": "python3"
  },
  "language_info": {
   "codemirror_mode": {
    "name": "ipython",
    "version": 3
   },
   "file_extension": ".py",
   "mimetype": "text/x-python",
   "name": "python",
   "nbconvert_exporter": "python",
   "pygments_lexer": "ipython3",
   "version": "3.11.0"
  }
 },
 "nbformat": 4,
 "nbformat_minor": 5
}
