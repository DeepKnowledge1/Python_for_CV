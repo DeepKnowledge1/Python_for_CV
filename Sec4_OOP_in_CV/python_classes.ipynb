{
 "cells": [
  {
   "cell_type": "markdown",
   "metadata": {},
   "source": [
    "# Python Classes: Essentials\n",
    "\n",
    "<img src=\"class.png\" alt=\"class.png\" width=\"40%\" /></a>\n",
    "\n",
    "\n",
    "---\n",
    "\n",
    "### Sequential Learning Path\n",
    "**Step 1:** What is a Class? \n",
    "\n",
    "\n",
    "**Step 2:** Your First Empty Class \n",
    "\n",
    "**Step 3:** Adding Your First Method \n",
    "\n",
    "**Step 4:** Adding Attributes \n",
    "\n",
    "**Step 5:** The Constructor (__init__)  \n",
    "\n",
    "**Step 6:** Multiple Attributes and Behaviors  \n",
    "\n",
    "**Step 7:** Default Parameters \n",
    "\n",
    "**Step 8:** Private Attributes \n",
    "\n",
    "---"
   ]
  },
  {
   "cell_type": "markdown",
   "metadata": {},
   "source": [
    "## Step 1: What is a Class? \n",
    "\n",
    "**Simple Analogy:** A class is like a cookie cutter\n",
    "- **Cookie cutter** = Class (the template)\n",
    "- **Each cookie** = Object (made from the template)\n",
    "- **Same shape, different decorations** = Same structure, different data\n",
    "\n",
    "**In Programming:**\n",
    "- Class = Template that defines structure and behavior\n",
    "- Object = Specific instance created from that template\n",
    "\n",
    "**Real Examples:**\n",
    "- Instagram User class → Your specific profile\n",
    "- Car class → Your specific Honda Civic\n",
    "- Dog class → Your specific pet Buddy"
   ]
  },
  {
   "cell_type": "markdown",
   "metadata": {},
   "source": [
    "## Step 2: Your First Empty Class \n",
    "\n",
    "Let's create the simplest class possible:"
   ]
  },
  {
   "cell_type": "code",
   "execution_count": null,
   "metadata": {},
   "outputs": [
    {
     "name": "stdout",
     "output_type": "stream",
     "text": [
      "<class '__main__.Dog'>\n"
     ]
    }
   ],
   "source": [
    "class Dog:\n",
    "    pass\n",
    "\n",
    "\n",
    "d1 = Dog()\n",
    "\n",
    "print(type(d1))"
   ]
  },
  {
   "cell_type": "markdown",
   "metadata": {},
   "source": [
    "## Step 3: Adding Your First Method \n",
    "\n",
    "Now let's make our class DO something:"
   ]
  },
  {
   "cell_type": "code",
   "execution_count": 6,
   "metadata": {},
   "outputs": [
    {
     "name": "stdout",
     "output_type": "stream",
     "text": [
      "Dong 1 : Woof\n",
      "Dong 2 : Woof\n"
     ]
    }
   ],
   "source": [
    "class Dog:\n",
    "    \n",
    "    def bark(self):\n",
    "        return \"Woof\"\n",
    "    \n",
    " \n",
    "d1 = Dog()   \n",
    "d2 = Dog()   \n",
    "\n",
    "print(f\"Dong 1 : {d1.bark()}\")\n",
    "print(f\"Dong 2 : {d2.bark()}\")                 "
   ]
  },
  {
   "cell_type": "markdown",
   "metadata": {},
   "source": [
    "## Step 4: Adding Attributes\n",
    "\n",
    "Let's give our objects memory - the ability to store information:"
   ]
  },
  {
   "cell_type": "code",
   "execution_count": null,
   "metadata": {},
   "outputs": [
    {
     "name": "stdout",
     "output_type": "stream",
     "text": [
      " Hi i am Bubby\n",
      " Hi i am JUJU\n"
     ]
    }
   ],
   "source": [
    "class Dog:\n",
    "    \n",
    "    def bark(self):\n",
    "        return \"Woof\"\n",
    "    \n",
    "    def set_name(self, name):\n",
    "        self.name = name            \n",
    "    def introduce(self):\n",
    "        print(f\" Hi i am {self.name}\")\n",
    "    \n",
    " \n",
    "d1 = Dog()   \n",
    "d2 = Dog()   \n",
    "\n",
    "\n",
    "d1.set_name(\"Bubby\")\n",
    "d2.set_name(\"JUJU\")\n",
    "\n",
    "d1.introduce()\n",
    "d2.introduce()\n"
   ]
  },
  {
   "cell_type": "markdown",
   "metadata": {},
   "source": [
    "## Step 5: The Constructor (__init__)\n",
    "\n",
    "Instead of setting attributes after creation, let's set them during creation:"
   ]
  },
  {
   "cell_type": "code",
   "execution_count": 11,
   "metadata": {},
   "outputs": [
    {
     "name": "stdout",
     "output_type": "stream",
     "text": [
      " Hi i am Bubby\n"
     ]
    }
   ],
   "source": [
    "class Dog:        \n",
    "    def __init__(self, name):\n",
    "        self.name = name        \n",
    "    \n",
    "    def bark(self):\n",
    "        return \"Woof\"    \n",
    "\n",
    "    def introduce(self):\n",
    "        print(f\" Hi i am {self.name}\")\n",
    "    \n",
    "    \n",
    "d1 = Dog(\"Bubby\")\n",
    "d1.introduce()\n",
    " "
   ]
  },
  {
   "cell_type": "markdown",
   "metadata": {},
   "source": [
    "## Step 6: Multiple Attributes and Behaviors\n",
    "\n",
    "Let's create more realistic objects with multiple characteristics:"
   ]
  },
  {
   "cell_type": "code",
   "execution_count": 14,
   "metadata": {},
   "outputs": [
    {
     "name": "stdout",
     "output_type": "stream",
     "text": [
      " Hi i am Bubby and aim 5\n"
     ]
    }
   ],
   "source": [
    "class Dog:        \n",
    "    def __init__(self, name,age):\n",
    "        self.name = name      \n",
    "        self.age= age                  \n",
    "    \n",
    "    def bark(self):\n",
    "        return \"Woof\"    \n",
    "\n",
    "    def introduce(self):\n",
    "        print(f\" Hi i am {self.name} and aim {self.age}\")\n",
    "    \n",
    "    \n",
    "d1 = Dog(\"Bubby\",5)\n",
    "d1.introduce()\n",
    " "
   ]
  },
  {
   "cell_type": "markdown",
   "metadata": {},
   "source": [
    "## Step 7: Default Parameters\n",
    "\n",
    "Make your constructors more flexible with default values:"
   ]
  },
  {
   "cell_type": "code",
   "execution_count": null,
   "metadata": {},
   "outputs": [
    {
     "name": "stdout",
     "output_type": "stream",
     "text": [
      " Hi i am Max and aim 5\n",
      " Hi i am Max and aim 5\n"
     ]
    },
    {
     "data": {
      "text/plain": [
       "'Max'"
      ]
     },
     "execution_count": 26,
     "metadata": {},
     "output_type": "execute_result"
    }
   ],
   "source": [
    "class Dog:        \n",
    "    def __init__(self, name =\"Bubby\",age= 2.5):\n",
    "        self.name = name      \n",
    "        self.age= age                  \n",
    "    \n",
    "    def bark(self):\n",
    "        return \"Woof\"    \n",
    "\n",
    "    def introduce(self):\n",
    "        print(f\" Hi i am {self.name} and aim {self.age}\")\n",
    "    \n",
    "    \n",
    "# d1 = Dog(\"Bubby\",5)\n",
    "# d1.introduce()\n",
    " \n",
    "# d2 = Dog()\n",
    "# d2.introduce()\n",
    "\n",
    "\n",
    "# d3 = Dog(age=5)\n",
    "# d3.introduce()\n",
    "\n",
    "\n",
    "d4 = Dog(name=\"Max\", age=5)\n",
    "d4.introduce()\n",
    "\n",
    "\n",
    "d5 = Dog(age=5,name=\"Max\")\n",
    "d5.introduce()\n",
    "\n"
   ]
  },
  {
   "cell_type": "markdown",
   "metadata": {},
   "source": [
    "## Step 8: Private Attributes\n",
    "\n",
    "Learn to protect sensitive data in your objects:"
   ]
  },
  {
   "cell_type": "code",
   "execution_count": null,
   "metadata": {},
   "outputs": [
    {
     "name": "stdout",
     "output_type": "stream",
     "text": [
      "💳 Account created for Alex\n",
      "Alex\n",
      "Balance : $100\n",
      "Balance : $100\n",
      "Balance : $600\n",
      "✅ Withdrew $300. Balance: $300\n",
      "Balance : $300\n",
      "Privacy protected : 'BankAccount' object has no attribute '__pin'\n",
      "PIN is  : 1234\n"
     ]
    },
    {
     "data": {
      "text/plain": [
       "'❌ Insufficient funds!'"
      ]
     },
     "execution_count": 50,
     "metadata": {},
     "output_type": "execute_result"
    }
   ],
   "source": [
    "class BankAccount:\n",
    "    def __init__(self, name, initial_balance=0):\n",
    "        self.name = name           # Public - anyone can access\n",
    "        self._balance = initial_balance        # Protected - internal use\n",
    "        self.__pin = \"1234\"                    # Private - hidden from outside\n",
    "        print(f\"💳 Account created for {name}\")\n",
    "    \n",
    "    def get_balance(self):\n",
    "        return self._balance\n",
    "    \n",
    "    def __checkBanlance(self, amount):\n",
    "        if amount > self._balance:\n",
    "            return \"❌ Insufficient funds!\"\n",
    "        \n",
    "        if amount > 0:\n",
    "            self._balance -= amount\n",
    "            return f\"✅ Withdrew ${amount}. Balance: ${self._balance}\"\n",
    "        else:\n",
    "            return \"❌ Cannot withdraw negative amount!\"\n",
    "            \n",
    "    \n",
    "    def deposit(self, amount):\n",
    "        if amount > 0:\n",
    "            self._balance += amount\n",
    "            return f\"✅ Deposited ${amount}. Balance: ${self._balance}\"\n",
    "        else:\n",
    "            return \"❌ Cannot deposit negative amount!\"\n",
    "    \n",
    "    def withdraw(self, amount, pin):\n",
    "        if pin != self.__pin:\n",
    "            return \"❌ Wrong PIN!\"\n",
    "        \n",
    "        return self.__checkBanlance(amount)\n",
    "\n",
    "account1 = BankAccount(name=\"Alex\",initial_balance=100)\n",
    "print(account1.name)\n",
    "print(f\"Balance : ${account1.get_balance()}\")\n",
    "\n",
    "print(f\"Balance : ${account1.get_balance()}\")\n",
    "\n",
    "account1.deposit(500)\n",
    "\n",
    "print(f\"Balance : ${account1.get_balance()}\")\n",
    "\n",
    "print(account1.withdraw(300,\"1234\"))\n",
    "print(f\"Balance : ${account1.get_balance()}\")\n",
    "\n",
    "\n",
    "try:\n",
    "\n",
    "    print(f\"PIN is  : {account1.__pin}\")\n",
    "    \n",
    "except AttributeError as e:\n",
    "    print(f\"Privacy protected : {e}\")\n",
    "\n",
    "\n",
    "\n",
    "print(f\"PIN is  : {account1._BankAccount__pin}\")\n",
    "\n",
    "\n",
    "\n"
   ]
  },
  {
   "cell_type": "markdown",
   "metadata": {},
   "source": [
    "## 🎯 Summary: What You've Mastered\n",
    "\n",
    "### ✅ Core Concepts\n",
    "1. **Classes are templates** for creating objects\n",
    "2. **Objects are instances** created from classes\n",
    "3. **Methods define behavior** (what objects can do)\n",
    "4. **Attributes store data** (what objects remember)\n",
    "5. **Constructors (`__init__`) set up** new objects\n",
    "6. **Privacy levels protect** sensitive data\n",
    "\n",
    "### 🔑 Essential Rules\n",
    "- Always include `self` in method definitions\n",
    "- Use `__init__` to initialize objects\n",
    "- Class names start with capital letters\n",
    "- Use methods to safely access private data\n",
    "- Default parameters make constructors flexible\n",
    "\n",
    "\n",
    "\n",
    "**Congratulations! You now understand the fundamentals of Python classes!** 🎉"
   ]
  }
 ],
 "metadata": {
  "kernelspec": {
   "display_name": "python-for-cv-xQdks3oV-py3.11",
   "language": "python",
   "name": "python3"
  },
  "language_info": {
   "codemirror_mode": {
    "name": "ipython",
    "version": 3
   },
   "file_extension": ".py",
   "mimetype": "text/x-python",
   "name": "python",
   "nbconvert_exporter": "python",
   "pygments_lexer": "ipython3",
   "version": "3.11.0"
  }
 },
 "nbformat": 4,
 "nbformat_minor": 4
}
