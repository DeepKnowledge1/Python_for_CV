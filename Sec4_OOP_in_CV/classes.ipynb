{
 "cells": [
  {
   "cell_type": "code",
   "execution_count": 2,
   "id": "043416a4",
   "metadata": {},
   "outputs": [],
   "source": [
    "class Robot:\n",
    "    pass"
   ]
  },
  {
   "cell_type": "code",
   "execution_count": 4,
   "id": "7aa22139",
   "metadata": {},
   "outputs": [
    {
     "name": "stdout",
     "output_type": "stream",
     "text": [
      "<class '__main__.Robot'>\n"
     ]
    }
   ],
   "source": [
    "r1 = Robot()\n",
    "print(type(r1))"
   ]
  },
  {
   "cell_type": "code",
   "execution_count": null,
   "id": "b29f5a73",
   "metadata": {},
   "outputs": [],
   "source": [
    "# class has attributes and methods\n",
    "\n",
    "class Robot:\n",
    "    def __init__(self,name, color):\n",
    "        self.name = name\n",
    "        self.color = color\n",
    "    \n",
    "    def spkeak(self):\n",
    "        print(f\" Hi, my nanme is {self.name} and i am {self.color}\")\n",
    "    "
   ]
  },
  {
   "cell_type": "code",
   "execution_count": 18,
   "id": "f3422f7e",
   "metadata": {},
   "outputs": [
    {
     "name": "stdout",
     "output_type": "stream",
     "text": [
      " Hi, my nanme is Robo and i am Red\n",
      " Hi, my nanme is BB and i am Blue\n"
     ]
    }
   ],
   "source": [
    "r1 = Robot(\"Robo\", \"Red\")\n",
    "r2 = Robot(\"BB\", \"Blue\")\n",
    "\n",
    "r1.spkeak()\n",
    "r2.spkeak()\n",
    "\n",
    "# print(r1.name)\n",
    "# print(r2.name)\n",
    "\n"
   ]
  },
  {
   "cell_type": "code",
   "execution_count": 20,
   "id": "3133a87e",
   "metadata": {},
   "outputs": [
    {
     "name": "stdout",
     "output_type": "stream",
     "text": [
      " Hi, my nanme is FF and i am Yellow\n",
      " FF is fully charged\n"
     ]
    }
   ],
   "source": [
    "# class has attributes and methods\n",
    "\n",
    "class Robot:\n",
    "    def __init__(self,name=\"FF\", color=\"Yellow\"):\n",
    "        self.name = name\n",
    "        self.color = color\n",
    "        self.battary_level = 100\n",
    "    \n",
    "    def spkeak(self):\n",
    "        print(f\" Hi, my nanme is {self.name} and i am {self.color}\")\n",
    "        \n",
    "    def print_battary(self):\n",
    "        print(f\" {self.name} is fully charged\")\n",
    "    \n",
    "\n",
    "\n",
    "# r1 = Robot(\"Robo\", \"Red\")\n",
    "# r2 = Robot(\"BB\", \"Blue\")\n",
    "r3 = Robot()\n",
    "\n",
    "r3.spkeak()\n",
    "r3.print_battary()\n"
   ]
  },
  {
   "cell_type": "code",
   "execution_count": 27,
   "id": "e3a567ee",
   "metadata": {},
   "outputs": [
    {
     "name": "stdout",
     "output_type": "stream",
     "text": [
      "Machine\n",
      "Machine\n",
      "Machine\n",
      "AI Robot\n",
      "AI Robot\n",
      "Robo\n",
      "FF\n"
     ]
    }
   ],
   "source": [
    "# class attributes \n",
    "\n",
    "class Robot:\n",
    "    kind = \"Machine\"    \n",
    "    \n",
    "    def __init__(self,name=\"FF\", color=\"Yellow\"):\n",
    "        self.name = name\n",
    "        self.color = color\n",
    "        self.battary_level = 100\n",
    "    \n",
    "    def spkeak(self):\n",
    "        print(f\" Hi, my nanme is {self.name} and i am {self.color}\")\n",
    "        \n",
    "    def print_battary(self):\n",
    "        print(f\" {self.name} is fully charged\")\n",
    "    \n",
    "\n",
    "\n",
    "r3 = Robot()\n",
    "print(r3.kind)\n",
    "r1 = Robot(\"Robo\", \"Red\")\n",
    "print(r1.kind)\n",
    "\n",
    "\n",
    "print(Robot.kind)\n",
    "\n",
    "\n",
    "Robot.kind = \"AI Robot\"\n",
    "print(Robot.kind)\n",
    "print(r1.kind)\n",
    "\n",
    "\n",
    "print(r1.name)\n",
    "print(r3.name)\n"
   ]
  }
 ],
 "metadata": {
  "kernelspec": {
   "display_name": "python-for-cv-xQdks3oV-py3.11",
   "language": "python",
   "name": "python3"
  },
  "language_info": {
   "codemirror_mode": {
    "name": "ipython",
    "version": 3
   },
   "file_extension": ".py",
   "mimetype": "text/x-python",
   "name": "python",
   "nbconvert_exporter": "python",
   "pygments_lexer": "ipython3",
   "version": "3.11.0"
  }
 },
 "nbformat": 4,
 "nbformat_minor": 5
}
