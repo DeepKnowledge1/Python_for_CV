{
 "cells": [
  {
   "cell_type": "markdown",
   "metadata": {},
   "source": [
    "# Classes vs Functions – When to Use Which\n",
    "\n",
    "\n",
    "## Table of Contents\n",
    "1. [Introduction](#introduction)\n",
    "2. [Understanding Functions](#functions)\n",
    "3. [Understanding Classes](#classes)\n",
    "4. [Comparing Functions and Classes](#comparison)\n",
    "5. [Decision Framework: When to Use Each](#decision-framework)\n"
   ]
  },
  {
   "cell_type": "markdown",
   "metadata": {},
   "source": [
    "## 1. Introduction <a name=\"introduction\"></a>\n",
    "\n",
    "When developing computer vision applications, you'll often need to decide whether to implement a particular piece of functionality as a function or as a class. This decision can significantly impact your code's organization, maintainability, and reusability.\n",
    "\n",
    "In this notebook, we'll explore both approaches, understand their strengths and weaknesses, and develop a framework to help you make the right choice for your specific use case."
   ]
  },
  {
   "cell_type": "markdown",
   "metadata": {},
   "source": [
    "## 2. Understanding Functions <a name=\"functions\"></a>\n",
    "\n",
    "Functions are blocks of reusable code designed to perform a specific task. They take inputs (parameters), process them, and return outputs.\n",
    "\n",
    "### Key Characteristics of Functions\n",
    "\n",
    "1. **Single Responsibility**: A well-designed function should do one thing and do it well.\n",
    "2. **Statelessness**: Functions typically don't maintain state between calls (unless they use global variables or closures).\n",
    "3. **Input/Output**: Functions receive inputs as parameters and produce outputs as return values.\n",
    "4. **Independence**: Functions can be called independently without needing to create an instance of anything.\n",
    "\n",
    "### Example: Image Processing Functions"
   ]
  },
  {
   "cell_type": "code",
   "execution_count": null,
   "metadata": {},
   "outputs": [],
   "source": [
    "# Example of image processing functions\n",
    "# Import necessary libraries\n",
    "import cv2\n",
    " \n",
    "  \n",
    "\n",
    "\n",
    "def load_image(file_path):\n",
    "    return cv2.imread(file_path)\n",
    "\n",
    "\n",
    "def convert_to_grayscale(image):\n",
    "    return cv2.cvtColor(image, cv2.COLOR_BGR2GRAY)\n",
    "\n",
    "def apply_gaussian_blur(image, kernel_size=(5, 5)):\n",
    "    return cv2.GaussianBlur(image, kernel_size, 0)\n",
    "\n",
    "def detect_edges(image, threshold1=100, threshold2=200):\n",
    "    return cv2.Canny(image, threshold1, threshold2)\n",
    "\n",
    "def save_image(image, file_path):\n",
    "    return cv2.imwrite(file_path, image)\n",
    "\n",
    "'''\n",
    "\n",
    "img = load_image('oop.png')\n",
    "gray_img = convert_to_grayscale(img)\n",
    "blurred_img = apply_gaussian_blur(gray_img)\n",
    "edges = detect_edges(blurred_img)\n",
    "save_image(edges, 'edges.jpg')\n",
    "display_image(edges, \"Edge Detection Result\")\n",
    "\n",
    "'''"
   ]
  },
  {
   "cell_type": "markdown",
   "metadata": {},
   "source": [
    "<img src=\"functions.png\" alt=\"functions.png\" width=\"40%\" /></a>\n"
   ]
  },
  {
   "cell_type": "markdown",
   "metadata": {},
   "source": [
    "## 3. Understanding Classes <a name=\"classes\"></a>\n",
    "\n",
    "Classes are blueprints for creating objects that bundle data (attributes) and functionality (methods) together. They provide a way to structure code around the concept of objects.\n",
    "\n",
    "### Key Characteristics of Classes\n",
    "\n",
    "1. **Encapsulation**: Classes encapsulate data (attributes) and behavior (methods) in a single unit.\n",
    "2. **State Management**: Objects created from classes can maintain state across method calls.\n",
    "3. **Inheritance**: Classes can inherit attributes and methods from other classes.\n",
    "4. **Polymorphism**: Different classes can implement the same method interface but with different behaviors.\n",
    "\n",
    "### Example: Image Processing Class"
   ]
  },
  {
   "cell_type": "code",
   "execution_count": null,
   "metadata": {},
   "outputs": [],
   "source": [
    "# Example of an image processing class\n",
    "\n",
    "class ImageProcessor:\n",
    "    def __init__(self, image=None):\n",
    "        \"\"\"Initialize the ImageProcessor with an optional image.\"\"\"\n",
    "        self.image = image\n",
    "        self.processing_history = []\n",
    "    \n",
    "    def load(self, file_path):\n",
    "        \"\"\"Load an image from a file.\"\"\"\n",
    "        self.image = cv2.imread(file_path)\n",
    "        self.processing_history.append(f\"Loaded image from {file_path}\")\n",
    "        return self\n",
    "    \n",
    "    def to_grayscale(self):\n",
    "        \"\"\"Convert the image to grayscale.\"\"\"\n",
    "        if self.image is not None:\n",
    "            self.image = cv2.cvtColor(self.image, cv2.COLOR_BGR2GRAY)\n",
    "            self.processing_history.append(\"Converted to grayscale\")\n",
    "        return self\n",
    "    \n",
    "    def apply_gaussian_blur(self, kernel_size=(5, 5)):\n",
    "        \"\"\"Apply Gaussian blur to the image.\"\"\"\n",
    "        if self.image is not None:\n",
    "            self.image = cv2.GaussianBlur(self.image, kernel_size, 0)\n",
    "            self.processing_history.append(f\"Applied Gaussian blur with kernel size {kernel_size}\")\n",
    "        return self\n",
    "    \n",
    "    def detect_edges(self, threshold1=100, threshold2=200):\n",
    "        \"\"\"Detect edges in the image using the Canny edge detector.\"\"\"\n",
    "        if self.image is not None:\n",
    "            self.image = cv2.Canny(self.image, threshold1, threshold2)\n",
    "            self.processing_history.append(f\"Detected edges with thresholds {threshold1} and {threshold2}\")\n",
    "        return self\n",
    "    \n",
    "    def save(self, file_path):\n",
    "        \"\"\"Save the image to a file.\"\"\"\n",
    "        if self.image is not None:\n",
    "            cv2.imwrite(file_path, self.image)\n",
    "            self.processing_history.append(f\"Saved image to {file_path}\")\n",
    "        return self\n",
    "    \n",
    "    def display(self, title=\"Image\"):\n",
    "        \"\"\"Display the image.\"\"\"\n",
    "        if self.image is not None:\n",
    "            self.display_image(self.image, title)\n",
    "        return self\n",
    "    \n",
    "    def get_processing_history(self):\n",
    "        \"\"\"Get the processing history of the image.\"\"\"\n",
    "        return self.processing_history\n",
    "\n",
    "# Example usage (commented out as we don't have an actual image file)\n",
    "'''\n",
    "# Create an image processor and process an image\n",
    "processor = ImageProcessor()\n",
    "processor.load('sample.jpg') \\\n",
    "         .to_grayscale() \\\n",
    "         .apply_gaussian_blur() \\\n",
    "         .detect_edges() \\\n",
    "         .save('edges.jpg') \\\n",
    "         .display(\"Edge Detection Result\")\n",
    "\n",
    "# Print the processing history\n",
    "print(\"Processing History:\")\n",
    "for step in processor.get_processing_history():\n",
    "    print(f\"- {step}\")\n",
    "'''"
   ]
  },
  {
   "cell_type": "markdown",
   "metadata": {},
   "source": [
    "<img src=\"classes.png\" alt=\"classes.png\" width=\"45%\" /></a>\n"
   ]
  },
  {
   "cell_type": "markdown",
   "metadata": {},
   "source": [
    "# Class VS Function"
   ]
  },
  {
   "cell_type": "markdown",
   "metadata": {},
   "source": [
    "<img src=\"class_vs_func.png\" alt=\"class_vs_func.png\" width=\"40%\" /></a>\n"
   ]
  }
 ],
 "metadata": {
  "kernelspec": {
   "display_name": "Python 3",
   "language": "python",
   "name": "python3"
  },
  "language_info": {
   "codemirror_mode": {
    "name": "ipython",
    "version": 3
   },
   "file_extension": ".py",
   "mimetype": "text/x-python",
   "name": "python",
   "nbconvert_exporter": "python",
   "pygments_lexer": "ipython3",
   "version": "3.11.0"
  }
 },
 "nbformat": 4,
 "nbformat_minor": 4
}
