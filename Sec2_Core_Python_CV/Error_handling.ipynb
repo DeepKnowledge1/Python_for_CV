{
 "cells": [
  {
   "cell_type": "markdown",
   "metadata": {},
   "source": [
    "# Python Error Handling & Debugging\n",
    "\n",
    "## 1. What is Error Handling?\n",
    "\n",
    "- **Error handling** lets your program deal with problems (errors) that happen while running.\n",
    "- Without it, programs crash when something goes wrong.\n",
    "- With error handling, you can **catch** errors and respond to them."
   ]
  },
  {
   "cell_type": "markdown",
   "metadata": {},
   "source": [
    "## 2. Types of Errors in Python\n",
    "\n",
    "### a. Syntax Errors\n",
    "- Problems in code writing, found before running the program.\n"
   ]
  },
  {
   "cell_type": "code",
   "execution_count": null,
   "metadata": {},
   "outputs": [],
   "source": [
    "# Syntax Error Example (uncomment to see error)\n",
    "print(\"Hello World\")  # SyntaxError: unmatched quotes"
   ]
  },
  {
   "cell_type": "markdown",
   "metadata": {},
   "source": [
    "### b. Runtime Errors (Exceptions)\n",
    "- Happen while the program runs.\n",
    "- Examples: divide by zero, wrong type, file missing."
   ]
  },
  {
   "cell_type": "code",
   "execution_count": 1,
   "metadata": {},
   "outputs": [
    {
     "ename": "ZeroDivisionError",
     "evalue": "division by zero",
     "output_type": "error",
     "traceback": [
      "\u001b[31m---------------------------------------------------------------------------\u001b[39m",
      "\u001b[31mZeroDivisionError\u001b[39m                         Traceback (most recent call last)",
      "\u001b[36mCell\u001b[39m\u001b[36m \u001b[39m\u001b[32mIn[1]\u001b[39m\u001b[32m, line 2\u001b[39m\n\u001b[32m      1\u001b[39m \u001b[38;5;66;03m# Runtime Error Example\u001b[39;00m\n\u001b[32m----> \u001b[39m\u001b[32m2\u001b[39m \u001b[38;5;28mprint\u001b[39m(\u001b[32;43m10\u001b[39;49m\u001b[43m \u001b[49m\u001b[43m/\u001b[49m\u001b[43m \u001b[49m\u001b[32;43m0\u001b[39;49m)  \u001b[38;5;66;03m# ZeroDivisionError\u001b[39;00m\n",
      "\u001b[31mZeroDivisionError\u001b[39m: division by zero"
     ]
    }
   ],
   "source": [
    "# Runtime Error Example\n",
    "print(10 / 0)  # ZeroDivisionError"
   ]
  },
  {
   "cell_type": "markdown",
   "metadata": {},
   "source": [
    "## 3. Common Built-in Exceptions\n",
    "\n",
    "- `ZeroDivisionError` — Dividing by zero\n",
    "- `ValueError` — Wrong value (e.g. converting 'abc' to int)\n",
    "- `TypeError` — Wrong type (e.g. adding int and str)\n",
    "- `FileNotFoundError` — File does not exist\n",
    "- `IndexError` — List index out of range\n",
    "- `KeyError` — Dictionary key does not exist"
   ]
  },
  {
   "cell_type": "markdown",
   "metadata": {},
   "source": [
    "## 4. The try...except Block\n",
    "\n",
    "### a. Basic Structure"
   ]
  },
  {
   "cell_type": "code",
   "execution_count": 4,
   "metadata": {},
   "outputs": [
    {
     "name": "stdout",
     "output_type": "stream",
     "text": [
      "You cannot divide by zero!\n"
     ]
    }
   ],
   "source": [
    "try:\n",
    "    x = 0\n",
    "    y = 10 / x\n",
    "except ZeroDivisionError:\n",
    "    print(\"You cannot divide by zero!\")\n",
    "except ValueError:\n",
    "    print(\"Please enter a valid number!\")"
   ]
  },
  {
   "cell_type": "markdown",
   "metadata": {},
   "source": [
    "### b. Catching All Errors"
   ]
  },
  {
   "cell_type": "code",
   "execution_count": 5,
   "metadata": {},
   "outputs": [
    {
     "name": "stdout",
     "output_type": "stream",
     "text": [
      "Something went wrong: division by zero\n"
     ]
    }
   ],
   "source": [
    "try:\n",
    "    print(10 / 0)\n",
    "except Exception as e:\n",
    "    print(\"Something went wrong:\", e)"
   ]
  },
  {
   "cell_type": "markdown",
   "metadata": {},
   "source": [
    "## 5. else and finally Clauses\n",
    "\n",
    "- **else**: Runs if no error happens in try.\n",
    "- **finally**: Runs no matter what."
   ]
  },
  {
   "cell_type": "code",
   "execution_count": 6,
   "metadata": {},
   "outputs": [
    {
     "name": "stdout",
     "output_type": "stream",
     "text": [
      "File not found!\n",
      "This always runs.\n"
     ]
    }
   ],
   "source": [
    "try:\n",
    "    f = open(\"data.txt\")\n",
    "except FileNotFoundError:\n",
    "    print(\"File not found!\")\n",
    "else:\n",
    "    print(\"File opened successfully!\")\n",
    "    f.close()\n",
    "finally:\n",
    "    print(\"This always runs.\")"
   ]
  },
  {
   "cell_type": "markdown",
   "metadata": {},
   "source": [
    "## 6. Raising Your Own Errors\n"
   ]
  },
  {
   "cell_type": "code",
   "execution_count": null,
   "metadata": {},
   "outputs": [],
   "source": [
    "age = -5\n",
    "if age < 0:\n",
    "    raise ValueError(\"Age cannot be negative!\")"
   ]
  },
  {
   "cell_type": "markdown",
   "metadata": {},
   "source": [
    "## 7. Debugging in Python\n",
    "\n",
    "**Debugging** = Finding and fixing errors.\n",
    "\n",
    "### a. Using print() Statements"
   ]
  },
  {
   "cell_type": "code",
   "execution_count": null,
   "metadata": {},
   "outputs": [],
   "source": [
    "a = 5\n",
    "b = 0\n",
    "print(\"a:\", a, \"b:\", b)\n",
    "# print(a / b)  # Uncomment to see the error"
   ]
  },
  {
   "cell_type": "markdown",
   "metadata": {},
   "source": [
    "### b. Using the Python Debugger (pdb)\n",
    "\n",
    "- pdb lets you pause and inspect code step by step."
   ]
  },
  {
   "cell_type": "code",
   "execution_count": null,
   "metadata": {},
   "outputs": [],
   "source": [
    "import pdb\n",
    "a = 5\n",
    "b = 0\n",
    "# pdb.set_trace()  # Uncomment for step-by-step debugging\n",
    "# print(a / b)"
   ]
  },
  {
   "cell_type": "markdown",
   "metadata": {},
   "source": [
    "### c. Using IDE Debuggers\n",
    "- Most editors (PyCharm, VSCode, Thonny) have graphical debuggers with breakpoints, step-through, and variable watching."
   ]
  },
  {
   "cell_type": "markdown",
   "metadata": {},
   "source": [
    "## 8. Tips & Best Practices\n",
    "\n",
    "- Catch **specific** errors\n",
    "- Show clear error messages\n",
    "- Don’t hide errors unnecessarily\n",
    "- Test your code with edge cases\n",
    "- Use comments to explain\n",
    "- Read error messages carefully"
   ]
  },
  {
   "cell_type": "markdown",
   "metadata": {},
   "source": [
    "## 9. Common Mistakes\n",
    "\n",
    "- Not handling possible exceptions\n",
    "- Catching exceptions but not reporting/fixing\n",
    "- Using `except:` without a type\n",
    "- Not closing files/resources"
   ]
  },
  {
   "cell_type": "markdown",
   "metadata": {},
   "source": [
    "## 10. Interview Questions\n",
    "1. What is the difference between a syntax error and an exception?\n",
    "2. What does the `finally` block do?\n",
    "3. How do you catch multiple exceptions?\n",
    "4. How would you debug a Python program that crashes with a `ValueError`?\n",
    "5. How can you raise your own exception in Python?"
   ]
  },
  {
   "cell_type": "markdown",
   "metadata": {},
   "source": [
    "## 11. Quiz\n",
    "\n",
    "**Q1.** What type of error will this code produce?\n",
    "```python\n",
    "print(\"10\" + 5)\n",
    "```\n",
    "a) SyntaxError  \n",
    "b) TypeError  \n",
    "c) ValueError  \n",
    "\n",
    "---\n",
    "\n",
    "**Q2.** What will this code print?\n",
    "```python\n",
    "try:\n",
    "    print(1/0)\n",
    "except ZeroDivisionError:\n",
    "    print(\"Oops!\")\n",
    "finally:\n",
    "    print(\"Done.\")\n",
    "```\n",
    "a) Oops!  \n",
    "b) Done.  \n",
    "c) Oops!  \n",
    "   Done.  \n",
    "\n",
    "---\n",
    "\n",
    "**Q3.** How do you catch all exceptions in a try block?\n",
    "\n",
    "a) `except Error:`  \n",
    "b) `except Exception:`  \n",
    "c) `except AllErrors:`  \n",
    "\n",
    "---\n",
    "\n",
    "**Q4.** What is the use of the `else` block in try-except-else?\n",
    "\n",
    "---\n",
    "\n",
    "**Q5.** Fill in the blank:  \n",
    "To raise a custom error, use the `______` statement."
   ]
  },
  {
   "cell_type": "markdown",
   "metadata": {},
   "source": [
    "## 12. Extra: Handling Multiple Exceptions"
   ]
  },
  {
   "cell_type": "code",
   "execution_count": null,
   "metadata": {},
   "outputs": [],
   "source": [
    "try:\n",
    "    int(\"abc\")\n",
    "except (ValueError, TypeError):\n",
    "    print(\"Value or Type error occurred\")"
   ]
  },
  {
   "cell_type": "markdown",
   "metadata": {},
   "source": [
    "## 13. Extra: Using `with` for Files (Best Practice)"
   ]
  },
  {
   "cell_type": "code",
   "execution_count": null,
   "metadata": {},
   "outputs": [],
   "source": [
    "try:\n",
    "    with open('file.txt') as f:\n",
    "        data = f.read()\n",
    "except FileNotFoundError:\n",
    "    print(\"File not found!\")"
   ]
  },
  {
   "cell_type": "markdown",
   "metadata": {},
   "source": [
    "## 14. Summary Table\n",
    "\n",
    "| Exception Type        | Cause                         |\n",
    "|----------------------|------------------------------|\n",
    "| ZeroDivisionError    | Division by zero             |\n",
    "| ValueError           | Wrong value type             |\n",
    "| IndexError           | List index out of range      |\n",
    "| KeyError             | Missing dictionary key       |\n",
    "| TypeError            | Wrong type used              |\n",
    "| FileNotFoundError    | File does not exist          |"
   ]
  },
  {
   "cell_type": "markdown",
   "metadata": {},
   "source": [
    "## Answers to Quiz\n",
    "\n",
    "1. **b) TypeError**\n",
    "2. **c) Oops! Done.**\n",
    "3. **b) except Exception:**\n",
    "4. **It runs if no exceptions were raised in try.**\n",
    "5. **raise**"
   ]
  }
 ],
 "metadata": {
  "kernelspec": {
   "display_name": "python-for-cv-xQdks3oV-py3.11",
   "language": "python",
   "name": "python3"
  },
  "language_info": {
   "codemirror_mode": {
    "name": "ipython",
    "version": 3
   },
   "file_extension": ".py",
   "mimetype": "text/x-python",
   "name": "python",
   "nbconvert_exporter": "python",
   "pygments_lexer": "ipython3",
   "version": "3.11.0"
  }
 },
 "nbformat": 4,
 "nbformat_minor": 2
}
