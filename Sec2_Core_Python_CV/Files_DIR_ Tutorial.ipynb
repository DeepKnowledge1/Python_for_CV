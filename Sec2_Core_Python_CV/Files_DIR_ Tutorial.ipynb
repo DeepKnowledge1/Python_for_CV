{
 "cells": [
  {
   "cell_type": "markdown",
   "id": "c4e191fb",
   "metadata": {},
   "source": [
    "# Python Files & Directories"
   ]
  },
  {
   "cell_type": "code",
   "execution_count": 5,
   "id": "aac42dca",
   "metadata": {},
   "outputs": [
    {
     "name": "stdout",
     "output_type": "stream",
     "text": [
      "We are here  d:\\Projects\\Python_for_CV\\Sec2_Core_Python_CV\n"
     ]
    }
   ],
   "source": [
    "import os \n",
    "from pathlib import Path\n",
    "\n",
    "\n",
    "print(\"We are here \",os.getcwd())\n",
    "abs_path = \"d:\\Projects\\Python_for_CV\\Sec2_Core_Python_CV\"\n",
    "\n",
    "rel_path= \"./Python_for_CV/data/test.txt\"\n",
    "\n",
    "\n",
    "\n",
    "win_path1= \"D:\\\\Projects\\\\Python_for_CV\\\\data\"\n",
    "\n",
    "win_path2= r\"D:\\Projects\\Python_for_CV\\data\"\n",
    "\n",
    "\n",
    "win_path3= \"D:/Projects/Python_for_CV/data\"\n",
    "\n",
    "\n",
    "\n",
    "path_ob = Path(\"data\") / \"test.txt\"\n",
    "\n",
    "\n"
   ]
  },
  {
   "cell_type": "markdown",
   "id": "9c36995e",
   "metadata": {},
   "source": [
    "\n",
    "## Reading & Writing Files\n",
    "\n",
    "Now let's see how to read from and write to files:\n"
   ]
  },
  {
   "cell_type": "code",
   "execution_count": 7,
   "id": "8a971ebf",
   "metadata": {},
   "outputs": [
    {
     "name": "stdout",
     "output_type": "stream",
     "text": [
      "Succesuflly\n"
     ]
    }
   ],
   "source": [
    "os.makedirs(\"data\",exist_ok=True)\n",
    "\n",
    "with open(\"data/test.txt\",\"+w\") as file:\n",
    "    file.write(\"Python file operartions\\n \")\n",
    "    file.write(\"Once you master the, you will be profi\\n \")\n",
    "    file.write(\"Keep learning\\n \")\n",
    "    \n",
    "    \n",
    "print(\"Succesuflly\")\n",
    "\n",
    "    "
   ]
  },
  {
   "cell_type": "code",
   "execution_count": 9,
   "id": "9fe1f8f2",
   "metadata": {},
   "outputs": [
    {
     "name": "stdout",
     "output_type": "stream",
     "text": [
      "Line by LIne \n",
      " Line 1: Python file operartions\n",
      " Line 2: Once you master the, you will be profi\n",
      " Line 3: Keep learning\n",
      " Line 4: \n"
     ]
    }
   ],
   "source": [
    "with open(\"data/test.txt\",\"r\") as file :\n",
    "    content = file.read()\n",
    "\n",
    "\n",
    "# print(content)\n",
    "\n",
    "\n",
    "\n",
    "print(\"Line by LIne \")\n",
    "\n",
    "with open(\"data/test.txt\",\"r\") as file :\n",
    "    for i,line in enumerate (file, 1):\n",
    "        print(f\" Line {i}: {line.strip()}\")\n",
    "\n"
   ]
  },
  {
   "cell_type": "markdown",
   "id": "14c37910",
   "metadata": {},
   "source": [
    "\n",
    "## Directory Operations\n",
    "\n",
    "Let's explore how to work with directories:\n"
   ]
  },
  {
   "cell_type": "code",
   "execution_count": 16,
   "id": "61830c8b",
   "metadata": {},
   "outputs": [
    {
     "name": "stdout",
     "output_type": "stream",
     "text": [
      "Folder: data\n",
      "File  dictionaries_notebook.ipynb\n",
      "File  Files_DIR_ Tutorial.ipynb\n",
      "File  functions_notebook.ipynb\n",
      "File  IF_LOOP.ipynb\n",
      "File  img.png\n",
      "File  img1.jpg\n",
      "File  lists.ipynb\n",
      "File  OpenCV_PILLOW.ipynb\n",
      "File  output_cv.jpg\n",
      "File  output_pil.png\n",
      "File  README.md\n",
      "Folder: test\n",
      "File  tuples_notebook.ipynb\n",
      "File  Variables_Numbers_Strings_CV.ipynb\n"
     ]
    }
   ],
   "source": [
    "os.makedirs(\"data/train\",exist_ok=True)\n",
    "os.makedirs(\"data/test\",exist_ok=True)\n",
    "os.makedirs(\"data/valid\",exist_ok=True)\n",
    "\n",
    "os.makedirs(\"test/train/ok/\",exist_ok=True)\n",
    "\n",
    "\n",
    "for item in os.listdir(\".\"):\n",
    "    if os.path.isdir(item):    \n",
    "        print(\"Folder:\", item)\n",
    "\n",
    "    if os.path.isfile(item):   \n",
    "        print(\"File \", item) \n",
    "\n",
    "\n",
    "\n"
   ]
  },
  {
   "cell_type": "markdown",
   "id": "c864e1ec",
   "metadata": {},
   "source": [
    "\n",
    "## Practical Example: Simple File Organizer\n",
    "\n",
    "Let's build a simple file organizer that sorts files by their extension:\n"
   ]
  },
  {
   "cell_type": "code",
   "execution_count": 18,
   "id": "eb906f43",
   "metadata": {},
   "outputs": [
    {
     "name": "stdout",
     "output_type": "stream",
     "text": [
      "📝 Created vacation_photos.jpg\n",
      "📝 Created shopping_list.txt\n",
      "📝 Created analysis.py\n",
      "📝 Created contacts.csv\n",
      "📝 Created settings.json\n",
      "\n",
      "🚀 Running file organizer...\n",
      "🔮 Organizing 5 files...\n",
      "📦 Moved analysis.py to py/analysis.py\n",
      "📦 Moved contacts.csv to csv/contacts.csv\n",
      "📦 Moved settings.json to json/settings.json\n",
      "📦 Moved shopping_list.txt to txt/shopping_list.txt\n",
      "📦 Moved vacation_photos.jpg to jpg/vacation_photos.jpg\n",
      "\n",
      "🎉 Organization complete!\n",
      "📊 Files organized by extension:\n",
      "  • py: 1 files\n",
      "  • csv: 1 files\n",
      "  • json: 1 files\n",
      "  • txt: 1 files\n",
      "  • jpg: 1 files\n",
      "\n",
      "🏆 Final directory structure:\n",
      "📁 csv/\n",
      "  • contacts.csv\n",
      "📁 jpg/\n",
      "  • vacation_photos.jpg\n",
      "📁 json/\n",
      "  • settings.json\n",
      "📁 py/\n",
      "  • analysis.py\n",
      "📁 txt/\n",
      "  • shopping_list.txt\n"
     ]
    }
   ],
   "source": [
    "def organize_files_by_extension(directory):\n",
    "    \"\"\"The File Whisperer - organizing chaos into harmony.\"\"\"\n",
    "    # Convert to Path object\n",
    "    dir_path = Path(directory)\n",
    "    \n",
    "    # Get all files (not directories)\n",
    "    files = [f for f in dir_path.iterdir() if f.is_file()]\n",
    "    \n",
    "    if not files:\n",
    "        print(f\"No files found in {directory}\")\n",
    "        return\n",
    "    \n",
    "    print(f\"🔮 Organizing {len(files)} files...\")\n",
    "    \n",
    "    # Track extensions for our summary\n",
    "    extensions = {}\n",
    "    \n",
    "    # Process each file\n",
    "    for file_path in files:\n",
    "        # Get extension (without the dot)\n",
    "        ext = file_path.suffix.lower()[1:] if file_path.suffix else \"no_extension\"\n",
    "        \n",
    "        # Create directory for this extension\n",
    "        ext_dir = dir_path / ext\n",
    "        ext_dir.mkdir(exist_ok=True)\n",
    "        \n",
    "        # New path for the file\n",
    "        new_path = ext_dir / file_path.name\n",
    "        \n",
    "        try:\n",
    "            # Move the file\n",
    "            file_path.rename(new_path)\n",
    "            \n",
    "            # Update count\n",
    "            if ext in extensions:\n",
    "                extensions[ext] += 1\n",
    "            else:\n",
    "                extensions[ext] = 1\n",
    "                \n",
    "            print(f\"📦 Moved {file_path.name} to {ext}/{file_path.name}\")\n",
    "        except Exception as e:\n",
    "            print(f\"❌ Error moving {file_path.name}: {e}\")\n",
    "    \n",
    "    # Print summary\n",
    "    print(\"\\n🎉 Organization complete!\")\n",
    "    print(\"📊 Files organized by extension:\")\n",
    "    for ext, count in extensions.items():\n",
    "        print(f\"  • {ext}: {count} files\")\n",
    "\n",
    "# Create a demo directory with sample files\n",
    "demo_dir = Path(\"organize_demo\")\n",
    "demo_dir.mkdir(exist_ok=True)\n",
    "\n",
    "# Create sample files with different extensions\n",
    "sample_files = {\n",
    "    \"vacation_photos.jpg\": \"This would be image data in a real file\",\n",
    "    \"shopping_list.txt\": \"Milk, Eggs, Python Programming Books\",\n",
    "    \"analysis.py\": \"print('This would analyze data if it were real')\",\n",
    "    \"contacts.csv\": \"name,email\\nPython,python@example.com\",\n",
    "    \"settings.json\": '{\"theme\": \"dark\", \"font_size\": 12}'\n",
    "}\n",
    "\n",
    "for filename, content in sample_files.items():\n",
    "    (demo_dir / filename).write_text(content)\n",
    "    print(f\"📝 Created {filename}\")\n",
    "\n",
    "# Run the organizer\n",
    "print(\"\\n🚀 Running file organizer...\")\n",
    "organize_files_by_extension(\"organize_demo\")\n",
    "\n",
    "# Show the final structure\n",
    "print(\"\\n🏆 Final directory structure:\")\n",
    "for item in demo_dir.iterdir():\n",
    "    if item.is_dir():\n",
    "        print(f\"📁 {item.name}/\")\n",
    "        for file in item.iterdir():\n",
    "            print(f\"  • {file.name}\")\n"
   ]
  }
 ],
 "metadata": {
  "kernelspec": {
   "display_name": "python-for-cv-xQdks3oV-py3.11",
   "language": "python",
   "name": "python3"
  },
  "language_info": {
   "codemirror_mode": {
    "name": "ipython",
    "version": 3
   },
   "file_extension": ".py",
   "mimetype": "text/x-python",
   "name": "python",
   "nbconvert_exporter": "python",
   "pygments_lexer": "ipython3",
   "version": "3.11.0"
  }
 },
 "nbformat": 4,
 "nbformat_minor": 5
}
