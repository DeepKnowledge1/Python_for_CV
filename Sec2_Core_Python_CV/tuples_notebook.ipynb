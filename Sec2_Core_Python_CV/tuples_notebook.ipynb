{
  "cells": [
    {
      "cell_type": "markdown",
      "metadata": {},
      "source": [
        "# 🐍 Python Tuples – The Beginner's Guide\n",
        "\n",
        "This notebook provides a comprehensive introduction to **tuples** in Python.\n",
        "\n",
        "This section includes:\n",
        "- Definitions\n",
        "- Syntax examples\n",
        "- Use cases\n",
        "- Performance insights\n",
        "- Interview questions\n",
        "- Quizzes\n",
        "\n",
        "Let's get started!"
      ]
    },
    {
      "cell_type": "code",
      "execution_count": null,
      "id": "a4c552fc",
      "metadata": {},
      "outputs": [],
      "source": [
        "location = (40.21,-74.0060)"
      ]
    },
    {
      "cell_type": "markdown",
      "id": "c574af60",
      "metadata": {},
      "source": [
        "## 🔸 Tuples\n",
        "\n",
        "### ✅ What is a Tuple?\n",
        "\n",
        "A tuple is an **ordered**, **immutable**, and **indexed** collection."
      ]
    },
    {
      "cell_type": "code",
      "execution_count": 5,
      "id": "055895ac",
      "metadata": {},
      "outputs": [],
      "source": [
        "empty_tuple = ()\n",
        "single_item = (42,)\n",
        "coordiantes = (10.5, 20.8)\n",
        "\n",
        "colors = \"red\", \"green\", \"blue\"\n"
      ]
    },
    {
      "cell_type": "markdown",
      "id": "d1faaf73",
      "metadata": {},
      "source": [
        "### 🟡 Accessing Elements"
      ]
    },
    {
      "cell_type": "code",
      "execution_count": 13,
      "id": "93c4386c",
      "metadata": {},
      "outputs": [
        {
          "name": "stdout",
          "output_type": "stream",
          "text": [
            "30\n",
            "70\n",
            "(20, 30, 40, 50, 60, 70)\n",
            "(10, 20, 30)\n"
          ]
        }
      ],
      "source": [
        "point = (10,20,30,40,50,60,70)\n",
        "\n",
        "print(point[2])\n",
        "print(point[-1])\n",
        "print(point[1:])\n",
        "print(point[:3])"
      ]
    },
    {
      "cell_type": "markdown",
      "id": "c27da02a",
      "metadata": {},
      "source": [
        "### ❌ Cannot Modify"
      ]
    },
    {
      "cell_type": "code",
      "execution_count": 15,
      "id": "542db1fb",
      "metadata": {},
      "outputs": [],
      "source": [
        "# point[0] = 100"
      ]
    },
    {
      "cell_type": "markdown",
      "id": "96e5464b",
      "metadata": {},
      "source": [
        "### 📦 Packing and Unpacking"
      ]
    },
    {
      "cell_type": "code",
      "execution_count": 17,
      "id": "e7c1561e",
      "metadata": {},
      "outputs": [
        {
          "name": "stdout",
          "output_type": "stream",
          "text": [
            "Alex 30 ML Eng\n"
          ]
        }
      ],
      "source": [
        "person = (\"Alex\", 30, \"ML Eng\")\n",
        "name , age, prof = person\n",
        "\n",
        "print(name , age, prof)"
      ]
    },
    {
      "cell_type": "markdown",
      "id": "53853757",
      "metadata": {},
      "source": [
        "### 🏷️ Named Tuples"
      ]
    },
    {
      "cell_type": "code",
      "execution_count": 20,
      "id": "1992122c",
      "metadata": {},
      "outputs": [
        {
          "name": "stdout",
          "output_type": "stream",
          "text": [
            "Point(x=10, y=20)\n"
          ]
        }
      ],
      "source": [
        "from collections import namedtuple\n",
        "\n",
        "Point = namedtuple(\"Point\",['x','y'])\n",
        "p = Point(10,20)\n",
        "print(p)"
      ]
    },
    {
      "cell_type": "markdown",
      "id": "tuple_vs_list",
      "metadata": {},
      "source": [
        "## 🔄 Tuples vs Lists\n",
        "\n",
        "Understanding when to use tuples versus lists is important:\n",
        "\n",
        "| Feature | Tuples | Lists |\n",
        "|---------|--------|-------|\n",
        "| Mutability | Immutable (cannot change) | Mutable (can change) |\n",
        "| Syntax | Parentheses `()` | Square brackets `[]` |\n",
        "| Performance | Generally faster | Slightly slower |\n",
        "| Use case | Fixed data, dictionary keys | Data that changes |\n",
        "| Memory | Less memory | More memory |"
      ]
    },
    {
      "cell_type": "markdown",
      "id": "when_to_use",
      "metadata": {},
      "source": [
        "## 🎯 When to Use Tuples\n",
        "\n",
        "Tuples are ideal for:\n",
        "\n",
        "1. **Representing fixed collections** that shouldn't change (e.g., days of the week)\n",
        "2. **Returning multiple values** from a function\n",
        "3. **Dictionary keys** (lists cannot be used as dictionary keys)\n",
        "4. **Data integrity** when you want to ensure values don't change\n",
        "5. **Slightly better performance** for fixed data structures"
      ]
    },
    {
      "cell_type": "code",
      "execution_count": 21,
      "id": "tuple_examples",
      "metadata": {},
      "outputs": [
        {
          "name": "stdout",
          "output_type": "stream",
          "text": [
            "Width: 1920, Height: 1080\n",
            "New York\n"
          ]
        }
      ],
      "source": [
        "# Example: Function returning multiple values\n",
        "def get_dimensions():\n",
        "    return (1920, 1080)  # Width, height tuple\n",
        "\n",
        "# Unpacking the returned tuple\n",
        "width, height = get_dimensions()\n",
        "print(f\"Width: {width}, Height: {height}\")\n",
        "\n",
        "# Example: Using tuple as dictionary key (immutable)\n",
        "locations = {\n",
        "    (40.7128, -74.0060): \"New York\",\n",
        "    (34.0522, -118.2437): \"Los Angeles\"\n",
        "}\n",
        "\n",
        "print(locations[(40.7128, -74.0060)])"
      ]
    },
    {
      "cell_type": "markdown",
      "id": "advanced_tuple_operations",
      "metadata": {},
      "source": [
        "## 🧩 Advanced Tuple Operations"
      ]
    },
    {
      "cell_type": "code",
      "execution_count": 29,
      "id": "advanced_ops",
      "metadata": {},
      "outputs": [
        {
          "name": "stdout",
          "output_type": "stream",
          "text": [
            "(1, 2, 3, 1, 2, 3, 1, 2, 3)\n",
            "Min: 2  and Max: 9\n",
            "True\n"
          ]
        }
      ],
      "source": [
        "tuple1 = (1,2,3)\n",
        "tuple2 = (4,5,6)\n",
        "combined = tuple1 + tuple2\n",
        "\n",
        "repeated = tuple1 *3\n",
        "\n",
        "print(repeated)\n",
        "\n",
        "nums = (2,5,4,6,8,7,9,8,4,5)\n",
        "print(f\"Min: {min(nums)}  and Max: {max(nums)}\")\n",
        "\n",
        "my_list = [1,2,3]\n",
        "my_tuble = tuple(my_list)\n",
        "\n",
        "back_to_list = list(my_tuble)\n",
        "\n",
        "print(my_list == back_to_list)\n"
      ]
    },
    {
      "cell_type": "markdown",
      "id": "d3d66568",
      "metadata": {},
      "source": [
        "## 🏷️ Named Tuples in Detail\n",
        "\n",
        "Named tuples are a memory-efficient way to define simple classes that are just bundles of attributes with no custom methods."
      ]
    },
    {
      "cell_type": "code",
      "execution_count": null,
      "id": "c408f712",
      "metadata": {},
      "outputs": [
        {
          "name": "stdout",
          "output_type": "stream",
          "text": [
            "Eng\n",
            "Eng\n"
          ]
        }
      ],
      "source": [
        "from collections import namedtuple\n",
        "\n",
        "Person = namedtuple(\"Person\",['name', 'age', 'job'])\n",
        "\n",
        "alex = Person(\"Alex\",30,\"Eng\")\n",
        "bob = Person(\"Bob\",30,\"Designer\")\n",
        "\n",
        "print(alex.job)\n",
        "print(alex[2])\n",
        "\n",
        "\n"
      ]
    },
    {
      "cell_type": "markdown",
      "id": "practice_exercises",
      "metadata": {},
      "source": [
        "## 📝 Practice Exercises\n",
        "\n",
        "### Exercise 1: Create and Access Tuples\n",
        "Create a tuple representing a person (name, age, city) and access each element."
      ]
    },
    {
      "cell_type": "code",
      "execution_count": null,
      "id": "exercise1",
      "metadata": {},
      "outputs": [],
      "source": [
        "# Your solution here\n",
        "person = (\"John Doe\", 28, \"San Francisco\")\n",
        "name = person[0]\n",
        "age = person[1]\n",
        "city = person[2]\n",
        "print(f\"{name} is {age} years old and lives in {city}.\")"
      ]
    },
    {
      "cell_type": "markdown",
      "id": "exercise2_header",
      "metadata": {},
      "source": [
        "### Exercise 2: Named Tuples\n",
        "Create a named tuple for a Book with title, author, and year attributes. Create two book instances."
      ]
    },
    {
      "cell_type": "code",
      "execution_count": null,
      "id": "exercise2",
      "metadata": {},
      "outputs": [],
      "source": [
        "# Your solution here\n",
        "from collections import namedtuple\n",
        "\n",
        "Book = namedtuple('Book', ['title', 'author', 'year'])\n",
        "\n",
        "book1 = Book('The Hobbit', 'J.R.R. Tolkien', 1937)\n",
        "book2 = Book('1984', 'George Orwell', 1949)\n",
        "\n",
        "print(f\"{book1.title} was written by {book1.author} in {book1.year}\")\n",
        "print(f\"{book2.title} was written by {book2.author} in {book2.year}\")"
      ]
    },
    {
      "cell_type": "markdown",
      "id": "quiz_section",
      "metadata": {},
      "source": [
        "## 🧠 Quiz: Test Your Knowledge\n",
        "\n",
        "1. What is the correct way to create a tuple with a single element?\n",
        "   - A) `(1)`\n",
        "   - B) `(1,)`\n",
        "   - C) `tuple(1)`\n",
        "   - D) `[1]`\n",
        "\n",
        "2. Which of the following is NOT a characteristic of tuples?\n",
        "   - A) Ordered\n",
        "   - B) Immutable\n",
        "   - C) Mutable\n",
        "   - D) Indexed\n",
        "\n",
        "3. Why can tuples be used as dictionary keys but lists cannot?\n",
        "   - A) Tuples are faster\n",
        "   - B) Tuples are immutable\n",
        "   - C) Tuples use less memory\n",
        "   - D) Tuples have a special hash method\n",
        "\n",
        "4. What will `divmod(20, 3)` return?\n",
        "   - A) `6.666...`\n",
        "   - B) `(6, 2)`\n",
        "   - C) `[6, 2]`\n",
        "   - D) `6`\n",
        "\n",
        "5. Which is the correct way to unpack values from a tuple?\n",
        "   - A) `a, b, c = (1, 2, 3)`\n",
        "   - B) `a = (1, 2, 3)[0]; b = (1, 2, 3)[1]; c = (1, 2, 3)[2]`\n",
        "   - C) `a = (1, 2, 3).get(0); b = (1, 2, 3).get(1); c = (1, 2, 3).get(2)`\n",
        "   - D) Both A and B are correct\n",
        "\n",
        "Answers: 1-B, 2-C, 3-B, 4-B, 5-D"
      ]
    },
    {
      "cell_type": "markdown",
      "id": "next_steps",
      "metadata": {},
      "source": [
        "## 🔜 Next Steps\n",
        "\n",
        "Now that you understand Python tuples, you're ready to learn about dictionaries, which provide a powerful way to store and retrieve data using keys. Check out the dictionaries notebook next!"
      ]
    }
  ],
  "metadata": {
    "kernelspec": {
      "display_name": "python-for-cv-xQdks3oV-py3.11",
      "language": "python",
      "name": "python3"
    },
    "language_info": {
      "codemirror_mode": {
        "name": "ipython",
        "version": 3
      },
      "file_extension": ".py",
      "mimetype": "text/x-python",
      "name": "python",
      "nbconvert_exporter": "python",
      "pygments_lexer": "ipython3",
      "version": "3.11.0"
    }
  },
  "nbformat": 4,
  "nbformat_minor": 5
}
