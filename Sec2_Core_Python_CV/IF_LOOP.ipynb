{
 "cells": [
  {
   "cell_type": "markdown",
   "metadata": {},
   "source": [
    "# **Ultra-Beginner Friendly Guide to If Statements & Loops in Python**\n",
    "*(With All the Tricks & Tips You Need!)*\n",
    "\n",
    "This guide is designed for **absolute beginners**. We'll start from the very basics and slowly move to slightly more advanced tricks—with clear explanations, fun examples, and a quiz at the end!"
   ]
  },
  {
   "cell_type": "markdown",
   "metadata": {},
   "source": [
    "## **1. If Statements (Making Decisions in Code)**"
   ]
  },
  {
   "cell_type": "markdown",
   "metadata": {},
   "source": [
    "### **1.1 What is an `if` statement?**\n",
    "It checks **if** something is `True`, then runs a block of code."
   ]
  },
  {
   "cell_type": "code",
   "execution_count": 3,
   "metadata": {},
   "outputs": [
    {
     "name": "stdout",
     "output_type": "stream",
     "text": [
      "You are a kid\n"
     ]
    }
   ],
   "source": [
    "age = 8\n",
    "if age < 18 :\n",
    "    print(\"You are a kid\")"
   ]
  },
  {
   "cell_type": "markdown",
   "metadata": {},
   "source": [
    "### **1.2 `else` – What if the condition is False?**"
   ]
  },
  {
   "cell_type": "code",
   "execution_count": 4,
   "metadata": {},
   "outputs": [
    {
     "name": "stdout",
     "output_type": "stream",
     "text": [
      "You are adult\n"
     ]
    }
   ],
   "source": [
    "age = 20\n",
    "\n",
    "if age < 18 :\n",
    "    print(\"You are a kid\")\n",
    "else:\n",
    "    print(\"You are adult\")\n",
    "    "
   ]
  },
  {
   "cell_type": "markdown",
   "metadata": {},
   "source": [
    "### **1.3 `elif` – Checking Multiple Conditions**\n",
    "(Short for \"else if\")"
   ]
  },
  {
   "cell_type": "code",
   "execution_count": 8,
   "metadata": {},
   "outputs": [
    {
     "name": "stdout",
     "output_type": "stream",
     "text": [
      "B\n"
     ]
    }
   ],
   "source": [
    "grade = 82\n",
    "\n",
    "if grade >= 90 :\n",
    "    print(\"A\")\n",
    "\n",
    "elif grade >=80 :\n",
    "    print(\"B\")\n",
    "\n",
    "elif grade >=70 :\n",
    "    print(\"C\")\n",
    "else : \n",
    "    print(\"Fail\")\n"
   ]
  },
  {
   "cell_type": "markdown",
   "metadata": {},
   "source": [
    "### **1.4 Nested `if` (An `if` inside another `if`)**"
   ]
  },
  {
   "cell_type": "code",
   "execution_count": null,
   "metadata": {},
   "outputs": [
    {
     "name": "stdout",
     "output_type": "stream",
     "text": [
      "Less than 10\n"
     ]
    }
   ],
   "source": [
    "num = 9\n",
    "\n",
    "if num >10 :\n",
    "    print(\"Above 10\")\n",
    "    if num> 20 :\n",
    "        print(\"Above 20\")\n",
    "    else:\n",
    "        print(\"But not above 20\")\n",
    "else :\n",
    "    print(\"Less than 10\")\n",
    "    \n",
    "\n"
   ]
  },
  {
   "cell_type": "markdown",
   "metadata": {},
   "source": [
    "### **1.5 One-Line `if-else` (Ternary Operator)**\n",
    "Shortcut for simple conditions:"
   ]
  },
  {
   "cell_type": "code",
   "execution_count": null,
   "metadata": {},
   "outputs": [
    {
     "name": "stdout",
     "output_type": "stream",
     "text": [
      "Kid\n"
     ]
    }
   ],
   "source": [
    "age = 17\n",
    "\n",
    "status = \"Kid\" if age<18 else \"Adult\"\n",
    "\n",
    "print(status)\n",
    "\n",
    "\n",
    "\n",
    "num = 10\n",
    "\n",
    "if num == 10:\n",
    "    print(\"Equal\")"
   ]
  },
  {
   "cell_type": "markdown",
   "metadata": {},
   "source": [
    "### **🔶 Tricks & Common Mistakes**\n",
    "✔ **Use `==` (comparison), NOT `=` (assignment)**\n",
    "❌ Wrong: `if age = 18:`\n",
    "✅ Right: `if age == 18:`\n",
    "\n",
    "✔ **Indentation matters!** (Use **4 spaces** or **Tab**)\n",
    "❌ Wrong:\n",
    "```python\n",
    "if age > 18:\n",
    "print(\"Adult\")  # Missing indentation → ERROR!\n",
    "```\n",
    "✅ Right:\n",
    "```python\n",
    "if age > 18:\n",
    "    print(\"Adult\")  # Correct!\n",
    "```\n",
    "\n",
    "✔ **`if` with `and` / `or`**\n",
    "```python\n",
    "age = 25\n",
    "if age >= 18 and age <= 30:\n",
    "    print(\"Young adult!\")\n",
    "```"
   ]
  },
  {
   "cell_type": "markdown",
   "metadata": {},
   "source": [
    "Logical Operators in Conditions\n",
    "\n",
    "and : Both have to be true\n",
    "or : at least one is true\n",
    "not: "
   ]
  },
  {
   "cell_type": "code",
   "execution_count": 17,
   "metadata": {},
   "outputs": [
    {
     "name": "stdout",
     "output_type": "stream",
     "text": [
      "Less than 10\n",
      "b is FALSE\n"
     ]
    }
   ],
   "source": [
    "num = 10\n",
    "\n",
    "if num >5 or num <10:\n",
    "    print(\"Less than 10\")\n",
    "    \n",
    "\n",
    "b = False\n",
    "\n",
    "if not b:\n",
    "    print(\"b is FALSE\")"
   ]
  },
  {
   "cell_type": "markdown",
   "metadata": {},
   "source": [
    "## **2. Loops (Doing Things Repeatedly)**"
   ]
  },
  {
   "cell_type": "markdown",
   "metadata": {},
   "source": [
    "### **2.1 `while` Loop (Repeat While True)**\n",
    "Keeps running **while** a condition is `True`."
   ]
  },
  {
   "cell_type": "code",
   "execution_count": null,
   "metadata": {},
   "outputs": [
    {
     "name": "stdout",
     "output_type": "stream",
     "text": [
      "Hello\n",
      "Hello\n",
      "Hello\n"
     ]
    }
   ],
   "source": [
    "count = 0\n",
    "# 0 1 2 \n",
    "while count<3:\n",
    "    print(\"Hello\")                 \n",
    "    # count = count + 1\n",
    "    count +=1\n",
    "    "
   ]
  },
  {
   "cell_type": "markdown",
   "metadata": {},
   "source": [
    "#### **Infinite Loop (Runs Forever!)**"
   ]
  },
  {
   "cell_type": "code",
   "execution_count": null,
   "metadata": {},
   "outputs": [],
   "source": [
    "while True :\n",
    "    print(\" This never stops.\")"
   ]
  },
  {
   "cell_type": "markdown",
   "metadata": {},
   "source": [
    "#### **Stopping a Loop with `break`**"
   ]
  },
  {
   "cell_type": "code",
   "execution_count": null,
   "metadata": {},
   "outputs": [],
   "source": [
    "while True :\n",
    "    print(\" This never stops until you type stop\")\n",
    "    answer = input(\"Type Stop to End this loop\")\n",
    "    \n",
    "    if answer == \"Stop\":\n",
    "        break\n"
   ]
  },
  {
   "cell_type": "markdown",
   "metadata": {},
   "source": [
    "#### **Skipping with `continue`**"
   ]
  },
  {
   "cell_type": "code",
   "execution_count": 29,
   "metadata": {},
   "outputs": [
    {
     "name": "stdout",
     "output_type": "stream",
     "text": [
      "1\n",
      "2\n",
      "4\n",
      "5\n"
     ]
    }
   ],
   "source": [
    "num = 0\n",
    "while num < 5:\n",
    "    num+=1 # num = num +1 WRONG to use num++\n",
    "    if num == 3:\n",
    "        continue ## SKIP printing num 3\n",
    "    print(num)\n",
    "  \n"
   ]
  },
  {
   "cell_type": "markdown",
   "metadata": {},
   "source": [
    "### **2.2 `for` Loop (Looping Through Lists, Strings, etc.)**"
   ]
  },
  {
   "cell_type": "markdown",
   "metadata": {},
   "source": [
    "#### **Looping Through a List**"
   ]
  },
  {
   "cell_type": "code",
   "execution_count": null,
   "metadata": {},
   "outputs": [
    {
     "name": "stdout",
     "output_type": "stream",
     "text": [
      "P\n",
      "Y\n",
      "T\n",
      "H\n",
      "O\n",
      "N\n",
      "Apple\n",
      "Banana\n",
      "Cherry\n"
     ]
    }
   ],
   "source": [
    "fruits = [\"Apple\", \"Banana\", \"Cherry\"]\n",
    "\n",
    "for fruit in fruits:\n",
    "    print(fruit)\n",
    "    \n",
    " \n",
    "\n",
    "    \n"
   ]
  },
  {
   "cell_type": "markdown",
   "metadata": {},
   "source": [
    "#### **Looping with `range()`**"
   ]
  },
  {
   "cell_type": "code",
   "execution_count": null,
   "metadata": {},
   "outputs": [
    {
     "name": "stdout",
     "output_type": "stream",
     "text": [
      "The length of s is :  6\n",
      "P\n",
      "Y\n",
      "T\n",
      "H\n",
      "O\n",
      "N\n"
     ]
    }
   ],
   "source": [
    "s = \"PYTHON\"\n",
    "\n",
    "print(\"The length of s is : \",len(s))\n",
    "\n",
    "for letter in range(len(s)):\n",
    "    print(s[letter])\n",
    "    "
   ]
  },
  {
   "cell_type": "markdown",
   "metadata": {},
   "source": [
    "#### **Looping Through a String**"
   ]
  },
  {
   "cell_type": "code",
   "execution_count": 36,
   "metadata": {},
   "outputs": [
    {
     "name": "stdout",
     "output_type": "stream",
     "text": [
      "P\n",
      "Y\n",
      "T\n",
      "H\n",
      "O\n",
      "N\n"
     ]
    }
   ],
   "source": [
    "s = \"PYTHON\"\n",
    "for letter in s:\n",
    "    print(letter)\n"
   ]
  },
  {
   "cell_type": "markdown",
   "metadata": {},
   "source": [
    "### **2.3 Loop Tricks You'll Love!**"
   ]
  },
  {
   "cell_type": "markdown",
   "metadata": {},
   "source": [
    "#### **1️⃣ `else` in Loops (Runs if NO `break` Happens)**"
   ]
  },
  {
   "cell_type": "code",
   "execution_count": 39,
   "metadata": {},
   "outputs": [
    {
     "name": "stdout",
     "output_type": "stream",
     "text": [
      "0\n",
      "1\n",
      "2\n",
      "Done\n"
     ]
    }
   ],
   "source": [
    "for i in range(3):\n",
    "    print(i)\n",
    "else:\n",
    "    print(\"Done\")"
   ]
  },
  {
   "cell_type": "markdown",
   "metadata": {},
   "source": [
    "#### **2️⃣ `enumerate()` – Get Index & Value**"
   ]
  },
  {
   "cell_type": "code",
   "execution_count": 41,
   "metadata": {},
   "outputs": [
    {
     "name": "stdout",
     "output_type": "stream",
     "text": [
      "0 Apple\n",
      "1 Banana\n",
      "2 Cherry\n"
     ]
    }
   ],
   "source": [
    "fruits = [\"Apple\", \"Banana\", \"Cherry\"]\n",
    "# for fruit in fruits:\n",
    "#     print(fruit)\n",
    "\n",
    "\n",
    "for index, fruit in enumerate(fruits):\n",
    "    print(index, fruit)\n",
    "    \n",
    "    "
   ]
  },
  {
   "cell_type": "markdown",
   "metadata": {},
   "source": [
    "#### **3️⃣ `zip()` – Loop Two Lists Together**"
   ]
  },
  {
   "cell_type": "code",
   "execution_count": 42,
   "metadata": {},
   "outputs": [
    {
     "name": "stdout",
     "output_type": "stream",
     "text": [
      "Alice  is  24  years old\n",
      "Alex  is  20  years old\n",
      "Bob  is  33  years old\n"
     ]
    }
   ],
   "source": [
    "names = [\"Alice\", \"Alex\", \"Bob\"]\n",
    "ages = [24,20,33]\n",
    "\n",
    "for name, age in zip(names,ages):\n",
    "    print(name, \" is \", age, \" years old\")\n",
    "    \n",
    "    "
   ]
  },
  {
   "cell_type": "markdown",
   "metadata": {},
   "source": [
    "#### **4️⃣ List Comprehension (Shortcut for `for` Loops)**"
   ]
  },
  {
   "cell_type": "code",
   "execution_count": 43,
   "metadata": {},
   "outputs": [
    {
     "name": "stdout",
     "output_type": "stream",
     "text": [
      "[1, 4, 9]\n"
     ]
    }
   ],
   "source": [
    "nums = [1,2,3]\n",
    "squared = [num**2 for num in nums]\n",
    "\n",
    "print(squared)"
   ]
  },
  {
   "cell_type": "markdown",
   "metadata": {},
   "source": [
    "## **3. Quiz Time! (Test Your Understanding)**"
   ]
  },
  {
   "cell_type": "markdown",
   "metadata": {},
   "source": [
    "### **Q1: What's the output?**\n",
    "```python\n",
    "x = 5\n",
    "if x == 5:\n",
    "    print(\"A\")\n",
    "elif x > 3:\n",
    "    print(\"B\")\n",
    "else:\n",
    "    print(\"C\")\n",
    "```\n",
    "**Answer:** `A` (Only the first `True` condition runs!)"
   ]
  },
  {
   "cell_type": "markdown",
   "metadata": {},
   "source": [
    "### **Q2: How many times does this loop run?**\n",
    "```python\n",
    "for i in range(1, 6, 2):\n",
    "    print(i)\n",
    "```\n",
    "**Answer:** `3` (Prints 1, 3, 5)"
   ]
  },
  {
   "cell_type": "markdown",
   "metadata": {},
   "source": [
    "### **Q3: Fix the error!**\n",
    "```python\n",
    "if 10 > 5\n",
    "    print(\"10 is bigger!\")\n",
    "```\n",
    "**Answer:** Missing `:` → `if 10 > 5:`"
   ]
  },
  {
   "cell_type": "markdown",
   "metadata": {},
   "source": [
    "### **Q4: What does this code do?**\n",
    "```python\n",
    "numbers = [2, 4, 6]\n",
    "doubled = [n * 2 for n in numbers]\n",
    "```\n",
    "**Answer:** Makes `[4, 8, 12]` (Doubles each number!)"
   ]
  },
  {
   "cell_type": "markdown",
   "metadata": {},
   "source": [
    "### **Q5: What's wrong here?**\n",
    "```python\n",
    "count = 0\n",
    "while count < 5:\n",
    "print(count)  # Error!\n",
    "count += 1\n",
    "```\n",
    "**Answer:** Missing **indentation**!"
   ]
  },
  {
   "cell_type": "markdown",
   "metadata": {},
   "source": [
    "## **4. Final Tips for Beginners**\n",
    "✅ **Practice small `if` and loop examples daily!**\n",
    "✅ **Use `print()` to debug and see what's happening.**\n",
    "✅ **Memorize common mistakes (like forgetting `:` or `==`).**\n",
    "✅ **Try modifying examples to see how they change.**"
   ]
  },
  {
   "cell_type": "markdown",
   "metadata": {},
   "source": [
    "# **Bonus Python Fun! 🎮 Let's Build a Guessing Game & More!**\n",
    "\n",
    "Since you want **more**, let's make learning **super fun** with:\n",
    "✅ A **number guessing game** (using `if`, `while`, and `random`).\n",
    "✅ A **password checker** (using `for` loops and `if`).\n",
    "✅ A **mini chatbot** (using `if-elif-else`)."
   ]
  },
  {
   "cell_type": "markdown",
   "metadata": {},
   "source": [
    "## **1. Number Guessing Game (Using `if` & `while`)**\n",
    "**How it works:**\n",
    "- The computer picks a random number.\n",
    "- You guess until you get it right!"
   ]
  },
  {
   "cell_type": "code",
   "execution_count": 45,
   "metadata": {},
   "outputs": [
    {
     "name": "stdout",
     "output_type": "stream",
     "text": [
      "Too high! Try again.\n",
      "Too low! Try again.\n",
      "Too low! Try again.\n",
      "🎉 Correct! The number was 4.\n"
     ]
    }
   ],
   "source": [
    "import random  # Lets us generate random numbers\n",
    "\n",
    "secret_number = random.randint(1, 10)  # Random number between 1-10\n",
    "guess = None  # Stores the user's guess\n",
    "\n",
    "while guess != secret_number:\n",
    "    guess = int(input(\"Guess a number (1-10): \"))\n",
    "    \n",
    "    if guess < secret_number:\n",
    "        print(\"Too low! Try again.\")\n",
    "    elif guess > secret_number:\n",
    "        print(\"Too high! Try again.\")\n",
    "    else:\n",
    "        print(f\"🎉 Correct! The number was {secret_number}.\")"
   ]
  },
  {
   "cell_type": "markdown",
   "metadata": {},
   "source": [
    "**🔶 Tricks Added:**\n",
    "✔ `random.randint()` → Generates random numbers.\n",
    "✔ `while guess != secret_number` → Keeps looping until correct.\n",
    "✔ `if-elif-else` → Gives hints."
   ]
  },
  {
   "cell_type": "markdown",
   "metadata": {},
   "source": [
    "## **2. Password Checker (Using `for` & `if`)**\n",
    "**How it works:**\n",
    "- Checks if a password meets rules:\n",
    "  - At least **8 characters long**.\n",
    "  - Has **at least one number**."
   ]
  },
  {
   "cell_type": "code",
   "execution_count": 49,
   "metadata": {},
   "outputs": [
    {
     "name": "stdout",
     "output_type": "stream",
     "text": [
      "❌ Password must be 8+ chars with at least 1 number.\n"
     ]
    }
   ],
   "source": [
    "password = input(\"Create a password: \")\n",
    "has_number = False\n",
    "\n",
    "# Check each character in the password\n",
    "for char in password:\n",
    "    if char.isdigit():  # Checks if character is a number (0-9)\n",
    "        has_number = True\n",
    "\n",
    "if len(password) >= 8 and has_number:\n",
    "    print(\"✅ Password is strong!\")\n",
    "else:\n",
    "    print(\"❌ Password must be 8+ chars with at least 1 number.\")"
   ]
  },
  {
   "cell_type": "markdown",
   "metadata": {},
   "source": [
    "**🔶 Tricks Added:**\n",
    "✔ `for char in password` → Loops through each letter.\n",
    "✔ `char.isdigit()` → Checks if a character is a number.\n",
    "✔ `len(password)` → Gets password length."
   ]
  },
  {
   "cell_type": "markdown",
   "metadata": {},
   "source": [
    "## **3. Mini Chatbot (Using `if-elif-else`)**\n",
    "**How it works:**\n",
    "- A simple bot that responds to your messages!"
   ]
  },
  {
   "cell_type": "code",
   "execution_count": 50,
   "metadata": {},
   "outputs": [
    {
     "name": "stdout",
     "output_type": "stream",
     "text": [
      "🤖: Hi! I'm a chatbot. Type 'bye' to exit.\n",
      "🤖: I didn't understand that.\n",
      "🤖: Goodbye! 👋\n"
     ]
    }
   ],
   "source": [
    "print(\"🤖: Hi! I'm a chatbot. Type 'bye' to exit.\")\n",
    "\n",
    "while True:\n",
    "    user_input = input(\"You: \").lower()  # Makes input lowercase\n",
    "    \n",
    "    if user_input == \"hello\":\n",
    "        print(\"🤖: Hi there!\")\n",
    "    elif user_input == \"how are you?\":\n",
    "        print(\"🤖: I'm a bot, so I'm always good!\")\n",
    "    elif user_input == \"bye\":\n",
    "        print(\"🤖: Goodbye! 👋\")\n",
    "        break  # Exits the loop\n",
    "    else:\n",
    "        print(\"🤖: I didn't understand that.\")"
   ]
  },
  {
   "cell_type": "markdown",
   "metadata": {},
   "source": [
    "**🔶 Tricks Added:**\n",
    "✔ `.lower()` → Makes input case-insensitive.\n",
    "✔ `while True` → Runs forever until `break`.\n",
    "✔ `break` → Stops the loop when you say \"bye\"."
   ]
  },
  {
   "cell_type": "markdown",
   "metadata": {},
   "source": [
    "## **4. Extra Challenges (Level Up!)**"
   ]
  },
  {
   "cell_type": "markdown",
   "metadata": {},
   "source": [
    "### **Challenge 1: FizzBuzz (Classic Coding Question)**\n",
    "**Rules:**\n",
    "- Print numbers from **1 to 20**.\n",
    "- If a number is divisible by **3**, print `\"Fizz\"`.\n",
    "- If divisible by **5**, print `\"Buzz\"`.\n",
    "- If divisible by **both**, print `\"FizzBuzz\"`."
   ]
  },
  {
   "cell_type": "code",
   "execution_count": null,
   "metadata": {},
   "outputs": [],
   "source": [
    "for num in range(1, 21):\n",
    "    if num % 3 == 0 and num % 5 == 0:\n",
    "        print(\"FizzBuzz\")\n",
    "    elif num % 3 == 0:\n",
    "        print(\"Fizz\")\n",
    "    elif num % 5 == 0:\n",
    "        print(\"Buzz\")\n",
    "    else:\n",
    "        print(num)"
   ]
  },
  {
   "cell_type": "markdown",
   "metadata": {},
   "source": [
    "### **Challenge 2: Count Vowels in a Word**\n",
    "**Example:**\n",
    "- Input: `\"hello\"` → Output: `2 vowels (e, o)`"
   ]
  },
  {
   "cell_type": "code",
   "execution_count": null,
   "metadata": {},
   "outputs": [],
   "source": [
    "word = input(\"Enter a word: \")\n",
    "vowels = \"aeiou\"\n",
    "count = 0\n",
    "\n",
    "for letter in word.lower():\n",
    "    if letter in vowels:\n",
    "        count += 1\n",
    "\n",
    "print(f\"{count} vowels in '{word}'\")"
   ]
  },
  {
   "cell_type": "markdown",
   "metadata": {},
   "source": [
    "## **5. Quiz Round 2! (Test Your Skills)**"
   ]
  },
  {
   "cell_type": "markdown",
   "metadata": {},
   "source": [
    "### **Q1: What does `random.randint(1, 5)` do?**\n",
    "**Answer:** Picks a random number between **1 and 5** (like rolling a dice)."
   ]
  },
  {
   "cell_type": "markdown",
   "metadata": {},
   "source": [
    "### **Q2: How do you stop an infinite `while True` loop?**\n",
    "**Answer:** Use `break` when a condition is met."
   ]
  },
  {
   "cell_type": "markdown",
   "metadata": {},
   "source": [
    "### **Q3: What's wrong here?**\n",
    "```python\n",
    "password = \"abc123\"\n",
    "if len(password) > 5 and password.isdigit():\n",
    "    print(\"Valid\")\n",
    "```\n",
    "**Answer:** `password.isdigit()` checks if **ALL** are numbers (but `abc123` has letters)."
   ]
  },
  {
   "cell_type": "markdown",
   "metadata": {},
   "source": [
    "### **Q4: What's the output?**\n",
    "```python\n",
    "for i in range(2):\n",
    "    print(i)\n",
    "else:\n",
    "    print(\"Done!\")\n",
    "```\n",
    "**Answer:**\n",
    "```\n",
    "0\n",
    "1\n",
    "Done!\n",
    "```"
   ]
  }
 ],
 "metadata": {
  "kernelspec": {
   "display_name": "python-for-cv-xQdks3oV-py3.11",
   "language": "python",
   "name": "python3"
  },
  "language_info": {
   "codemirror_mode": {
    "name": "ipython",
    "version": 3
   },
   "file_extension": ".py",
   "mimetype": "text/x-python",
   "name": "python",
   "nbconvert_exporter": "python",
   "pygments_lexer": "ipython3",
   "version": "3.11.0"
  }
 },
 "nbformat": 4,
 "nbformat_minor": 4
}
