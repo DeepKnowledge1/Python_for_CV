{
  "cells": [
    {
      "cell_type": "markdown",
      "metadata": {},
      "source": [
        "# 🐍 Python Lists – The Beginner's Guide\n",
        "\n",
        "This notebook provides a comprehensive introduction to **lists** in Python.\n",
        "\n",
        "This section includes:\n",
        "- Definitions\n",
        "- Syntax examples\n",
        "- Use cases\n",
        "- Performance insights\n",
        "- Interview questions\n",
        "- Quizzes\n",
        "\n",
        "Let's get started!"
      ]
    },
    {
      "cell_type": "code",
      "execution_count": 1,
      "id": "5d8bb2d5",
      "metadata": {},
      "outputs": [],
      "source": [
        "movie1 = \"The Matrix\"\n",
        "movie2 = \"Inception\"\n",
        "movie3 = \"Interstellar\"\n",
        "# And so on...\n"
      ]
    },
    {
      "cell_type": "markdown",
      "id": "d88f396d",
      "metadata": {},
      "source": [
        "## 🔹 Lists\n",
        "\n",
        "### ✅ What is a List?\n",
        "\n",
        "A list is an **ordered**, **mutable**, and **indexed** collection of items.\n",
        "\n",
        "### 🟢 Creating Lists"
      ]
    },
    {
      "cell_type": "code",
      "execution_count": 5,
      "id": "50e62617",
      "metadata": {},
      "outputs": [
        {
          "name": "stdout",
          "output_type": "stream",
          "text": [
            "[2, 3]\n"
          ]
        }
      ],
      "source": [
        "empty_list = []\n",
        "empty_list2 = list()\n",
        "\n",
        "numbers = [1,2,3]\n",
        "mixed_types = [1,\"hello\",True, 3.14]\n",
        "nested_list = [1,[2,3],3]\n",
        "\n",
        "print(nested_list[1])"
      ]
    },
    {
      "cell_type": "markdown",
      "id": "d3c97ab7",
      "metadata": {},
      "source": [
        "### 🟡 Accessing Elements"
      ]
    },
    {
      "cell_type": "code",
      "execution_count": 28,
      "id": "a422d0ba",
      "metadata": {},
      "outputs": [
        {
          "name": "stdout",
          "output_type": "stream",
          "text": [
            "['date', 'cherry', 'banana', 'apple']\n",
            "['apple', 'banana', 'cherry', 'date']\n"
          ]
        }
      ],
      "source": [
        "fruits = [\"apple\", \"banana\", \"cherry\",\"date\"]\n",
        "#           0         1          2       3\n",
        "# print(fruits[0])\n",
        "\n",
        "# print(fruits[-1])\n",
        "# print(fruits[1:3])\n",
        "print(fruits[::-1])\n",
        "# fruits = fruits[::-1]\n",
        "\n",
        "print(fruits)"
      ]
    },
    {
      "cell_type": "markdown",
      "id": "a5a8a162",
      "metadata": {},
      "source": [
        "### 🔁 Modifying Lists\n",
        "#### Adding Elements"
      ]
    },
    {
      "cell_type": "code",
      "execution_count": 32,
      "id": "4b21b252",
      "metadata": {},
      "outputs": [
        {
          "name": "stdout",
          "output_type": "stream",
          "text": [
            "['apple', 'carrot', 'banana', 'cherry', 'date', 'grape', 'kiwi', 'fig']\n",
            "['apple', 'carrot', 'carrot', 'banana', 'cherry', 'date', 'grape', 'kiwi', 'fig']\n",
            "['apple', 'carrot', 'carrot', 'banana', 'cherry', 'date', 'grape', 'kiwi', 'fig', 'grape', 'kiwi']\n"
          ]
        }
      ],
      "source": [
        "fruits.append(\"fig\")\n",
        "print(fruits)\n",
        "fruits.insert(1,\"carrot\")\n",
        "\n",
        "print(fruits)\n",
        "\n",
        "fruits.extend([\"grape\",\"kiwi\"])\n",
        "\n",
        "print(fruits)\n",
        "\n"
      ]
    },
    {
      "cell_type": "markdown",
      "id": "9683a34c",
      "metadata": {},
      "source": [
        "#### Removing Elements"
      ]
    },
    {
      "cell_type": "code",
      "execution_count": 40,
      "id": "1e4ab4e8",
      "metadata": {},
      "outputs": [
        {
          "name": "stdout",
          "output_type": "stream",
          "text": [
            "[]\n"
          ]
        }
      ],
      "source": [
        "if \"fig\" in fruits:\n",
        "    fruits.remove(\"fig\")\n",
        "\n",
        "# fruits.pop()\n",
        "# del fruits[0]\n",
        "fruits.clear()\n",
        "print(fruits)"
      ]
    },
    {
      "cell_type": "markdown",
      "id": "bed86761",
      "metadata": {},
      "source": [
        "### 🧩 Useful List Methods"
      ]
    },
    {
      "cell_type": "code",
      "execution_count": 54,
      "id": "89e2ec18",
      "metadata": {},
      "outputs": [
        {
          "name": "stdout",
          "output_type": "stream",
          "text": [
            "1\n"
          ]
        }
      ],
      "source": [
        "nums = [3,1,4,1,5]\n",
        "# nums.sort()\n",
        "# nums.reverse()\n",
        "\n",
        "count_1= nums.count(1)\n",
        "\n",
        "print(nums.index(1))"
      ]
    },
    {
      "cell_type": "markdown",
      "id": "4ae794c9",
      "metadata": {},
      "source": [
        "### 🔄 List Comprehension"
      ]
    },
    {
      "cell_type": "code",
      "execution_count": 58,
      "id": "10b734dc",
      "metadata": {},
      "outputs": [
        {
          "name": "stdout",
          "output_type": "stream",
          "text": [
            "[1, 3, 5, 7, 9]\n"
          ]
        }
      ],
      "source": [
        "#range 0 -5\n",
        "squares = [x*x for x in range(5)]\n",
        "odd = [x for x in range(10) if x% 2!=0]\n",
        "\n",
        "\n",
        "print(odd)"
      ]
    },
    {
      "cell_type": "markdown",
      "id": "33a18b9a",
      "metadata": {},
      "source": [
        "### 🎯 Advanced Tricks\n",
        "#### Unpacking"
      ]
    },
    {
      "cell_type": "code",
      "execution_count": 62,
      "id": "cf52f37b",
      "metadata": {},
      "outputs": [
        {
          "name": "stdout",
          "output_type": "stream",
          "text": [
            "1 [2, 3, 4, 5, 6, 7, 8]\n",
            "9\n"
          ]
        }
      ],
      "source": [
        "nums= [1,2,3,4,5,6,7,8,9]\n",
        "\n",
        "a,*b,c = nums\n",
        "print(a,b)\n",
        "\n",
        "print(c)\n"
      ]
    },
    {
      "cell_type": "markdown",
      "id": "e1605574",
      "metadata": {},
      "source": [
        "#### Sorting with Custom Key"
      ]
    },
    {
      "cell_type": "code",
      "execution_count": 66,
      "id": "09ced555",
      "metadata": {},
      "outputs": [
        {
          "name": "stdout",
          "output_type": "stream",
          "text": [
            "['apple', 'banana', 'cherry']\n"
          ]
        }
      ],
      "source": [
        "words = [\"banana\",\"apple\", \"cherry\"]\n",
        "words.sort(key=len)\n",
        "print(words)"
      ]
    },
    {
      "cell_type": "markdown",
      "id": "fd35937d",
      "metadata": {},
      "source": [
        "#### Nested Lists"
      ]
    },
    {
      "cell_type": "code",
      "execution_count": 71,
      "id": "69083523",
      "metadata": {},
      "outputs": [
        {
          "name": "stdout",
          "output_type": "stream",
          "text": [
            "4\n"
          ]
        }
      ],
      "source": [
        "matrix = [[1,2],[3,4]]\n",
        "\n",
        "#[1,2]\n",
        "#[3,4]\n",
        "print(matrix[1][1])"
      ]
    },
    {
      "cell_type": "markdown",
      "id": "practice_exercises",
      "metadata": {},
      "source": [
        "## 📝 Practice Exercises\n",
        "\n",
        "### Exercise 1: Create and Modify a List\n",
        "Create a list of your favorite foods, then add a new food and remove one."
      ]
    },
    {
      "cell_type": "code",
      "execution_count": null,
      "id": "exercise1",
      "metadata": {},
      "outputs": [],
      "source": [
        "# Your solution here\n",
        "favorite_foods = [\"pizza\", \"ice cream\", \"sushi\", \"pasta\"]\n",
        "# Add a new food\n",
        "favorite_foods.append(\"tacos\")\n",
        "# Remove one food\n",
        "favorite_foods.remove(\"ice cream\")\n",
        "print(favorite_foods)"
      ]
    },
    {
      "cell_type": "markdown",
      "id": "exercise2_header",
      "metadata": {},
      "source": [
        "### Exercise 2: List Comprehension\n",
        "Use list comprehension to create a list of the first 10 square numbers."
      ]
    },
    {
      "cell_type": "code",
      "execution_count": null,
      "id": "exercise2",
      "metadata": {},
      "outputs": [],
      "source": [
        "# Your solution here\n",
        "square_numbers = [x**2 for x in range(1, 11)]\n",
        "print(square_numbers)"
      ]
    },
    {
      "cell_type": "markdown",
      "id": "quiz_section",
      "metadata": {},
      "source": [
        "## 🧠 Quiz: Test Your Knowledge\n",
        "\n",
        "1. What will `[1, 2, 3] + [4, 5]` produce?\n",
        "   - A) Error\n",
        "   - B) [1, 2, 3, 4, 5]\n",
        "   - C) [5, 7, 8]\n",
        "   - D) [[1, 2, 3], [4, 5]]\n",
        "\n",
        "2. Which method adds an element to the end of a list?\n",
        "   - A) add()\n",
        "   - B) push()\n",
        "   - C) append()\n",
        "   - D) insert()\n",
        "\n",
        "3. What does `fruits[1:3]` return if `fruits = [\"apple\", \"banana\", \"cherry\", \"date\"]`?\n",
        "   - A) [\"apple\", \"banana\"]\n",
        "   - B) [\"banana\", \"cherry\"]\n",
        "   - C) [\"banana\", \"cherry\", \"date\"]\n",
        "   - D) [\"apple\", \"banana\", \"cherry\"]\n",
        "\n",
        "4. Which of these is NOT a valid way to create an empty list?\n",
        "   - A) `[]`\n",
        "   - B) `list()`\n",
        "   - C) `list([])`\n",
        "   - D) `new list()`\n",
        "\n",
        "5. What happens when you use the `del` keyword with a list?\n",
        "   - A) It deletes the entire list variable\n",
        "   - B) It removes all elements but keeps the list\n",
        "   - C) It can remove specific elements by index\n",
        "   - D) Both A and C are correct\n",
        "\n",
        "Answers: 1-B, 2-C, 3-B, 4-D, 5-D"
      ]
    },
    {
      "cell_type": "markdown",
      "id": "next_steps",
      "metadata": {},
      "source": [
        "## 🔜 Next Steps\n",
        "\n",
        "Now that you understand Python lists, you're ready to learn about tuples, which are similar but have some important differences. Check out the tuples notebook next!"
      ]
    }
  ],
  "metadata": {
    "kernelspec": {
      "display_name": "python-for-cv-xQdks3oV-py3.11",
      "language": "python",
      "name": "python3"
    },
    "language_info": {
      "codemirror_mode": {
        "name": "ipython",
        "version": 3
      },
      "file_extension": ".py",
      "mimetype": "text/x-python",
      "name": "python",
      "nbconvert_exporter": "python",
      "pygments_lexer": "ipython3",
      "version": "3.11.0"
    }
  },
  "nbformat": 4,
  "nbformat_minor": 5
}
