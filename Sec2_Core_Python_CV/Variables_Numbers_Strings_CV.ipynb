{
 "cells": [
  {
   "cell_type": "markdown",
   "metadata": {},
   "source": [
    "# 🔷 Beginner-Friendly Guide to Variables, Numbers, and Strings in Python"
   ]
  },
  {
   "cell_type": "markdown",
   "metadata": {},
   "source": [
    "## 🔹 1. VARIABLES in Python"
   ]
  },
  {
   "cell_type": "markdown",
   "metadata": {},
   "source": [
    "### ✅ What is a Variable?\n",
    "\n",
    "A **variable** is a name that refers to a value. Think of it as a label you stick on a box that holds something."
   ]
  },
  {
   "cell_type": "code",
   "execution_count": 3,
   "metadata": {},
   "outputs": [
    {
     "name": "stdout",
     "output_type": "stream",
     "text": [
      "x:  10\n",
      "x:  Hi\n"
     ]
    }
   ],
   "source": [
    "x = 10\n",
    "\n",
    "print(\"x: \",x)\n",
    "name = \"Alex\"\n",
    "\n",
    "price = 99.99\n",
    "x = \"Hi\"\n",
    "print(\"x: \",x)\n"
   ]
  },
  {
   "cell_type": "markdown",
   "metadata": {},
   "source": [
    "### ✅ Naming Rules & Best Practices\n",
    "\n",
    "* Can include letters, numbers, and underscores.\n",
    "* Cannot start with a number.\n",
    "* Case-sensitive (`myVar` ≠ `myvar`).\n",
    "* Avoid using Python keywords like `if`, `else`, etc.\n",
    "\n",
    "Use meaningful names: `student_name` instead of `s`\n",
    "Use `snake_case` for variables and `UPPERCASE` for constants."
   ]
  },
  {
   "cell_type": "code",
   "execution_count": null,
   "metadata": {},
   "outputs": [],
   "source": [
    "_x12 = 15\n",
    "print(_x12)\n",
    "Y = 10\n",
    "print(Y)"
   ]
  },
  {
   "cell_type": "markdown",
   "metadata": {},
   "source": [
    "### ✅ Dynamic Typing"
   ]
  },
  {
   "cell_type": "code",
   "execution_count": 12,
   "metadata": {},
   "outputs": [
    {
     "name": "stdout",
     "output_type": "stream",
     "text": [
      "<class 'int'>\n",
      "<class 'str'>\n"
     ]
    }
   ],
   "source": [
    "x = 5 # x is int\n",
    "print(type(x))\n",
    "\n",
    "x = \"hello\" # now x is string \n",
    "\n",
    "print(type(x))"
   ]
  },
  {
   "cell_type": "markdown",
   "metadata": {},
   "source": [
    "## 🔹 2. NUMBERS in Python"
   ]
  },
  {
   "cell_type": "markdown",
   "metadata": {},
   "source": [
    "### ✅ Types of Numbers\n",
    "\n",
    "- `int`: Integers → `10`, `-20`   -2147483648 through 2147483647\n",
    "- `float`: Floating points → `3.14`, `-0.001` 3.4e−038 and 3.4e+038\n",
    "- `complex`: Complex numbers → `3 + 4j`"
   ]
  },
  {
   "cell_type": "code",
   "execution_count": 13,
   "metadata": {},
   "outputs": [
    {
     "name": "stdout",
     "output_type": "stream",
     "text": [
      "<class 'int'>\n",
      "<class 'float'>\n",
      "<class 'complex'>\n"
     ]
    }
   ],
   "source": [
    "a = 10\n",
    "b = 3.14\n",
    "c = 3+4j\n",
    "\n",
    "print(type(a))\n",
    "print(type(b))\n",
    "print(type(c))\n"
   ]
  },
  {
   "cell_type": "markdown",
   "metadata": {},
   "source": [
    "### ✅ Arithmetic Operators"
   ]
  },
  {
   "cell_type": "code",
   "execution_count": 14,
   "metadata": {},
   "outputs": [
    {
     "name": "stdout",
     "output_type": "stream",
     "text": [
      " Addition 13\n",
      " Division 3.3333333333333335\n",
      " Multiplication 30\n",
      " Integer Div 3\n",
      " Exponent 1000\n"
     ]
    }
   ],
   "source": [
    "a =10\n",
    "b = 3\n",
    "print(\" Addition\", a+b)\n",
    "print(\" Division\", a/b)\n",
    "print(\" Multiplication\", a*b)\n",
    "\n",
    "print(\" Integer Div\", a // b)\n",
    "print(\" Exponent\", a**b) # 10^3\n",
    "\n"
   ]
  },
  {
   "cell_type": "markdown",
   "metadata": {},
   "source": [
    "### ✅ Built-in Functions"
   ]
  },
  {
   "cell_type": "code",
   "execution_count": 17,
   "metadata": {},
   "outputs": [
    {
     "name": "stdout",
     "output_type": "stream",
     "text": [
      "10\n",
      "3\n",
      "8\n"
     ]
    }
   ],
   "source": [
    "print(abs(-10))\n",
    "print(round(3.30))\n",
    "print(pow(2,3))\n",
    "\n"
   ]
  },
  {
   "cell_type": "markdown",
   "metadata": {},
   "source": [
    "### ✅ Math Module"
   ]
  },
  {
   "cell_type": "code",
   "execution_count": 18,
   "metadata": {},
   "outputs": [
    {
     "name": "stdout",
     "output_type": "stream",
     "text": [
      "4.0\n",
      "3.141592653589793\n",
      "120\n"
     ]
    }
   ],
   "source": [
    "import math\n",
    "\n",
    "print(math.sqrt(16))\n",
    "print(math.pi)\n",
    "print(math.factorial(5)) # 5*4*3*2*1"
   ]
  },
  {
   "cell_type": "markdown",
   "metadata": {},
   "source": [
    "## 🔹 3. STRINGS in Python"
   ]
  },
  {
   "cell_type": "markdown",
   "metadata": {},
   "source": [
    "### ✅ What is a String?"
   ]
  },
  {
   "cell_type": "code",
   "execution_count": 22,
   "metadata": {},
   "outputs": [
    {
     "name": "stdout",
     "output_type": "stream",
     "text": [
      "hello world\n"
     ]
    }
   ],
   "source": [
    "s = \"hello\"\n",
    "t= 'world'\n",
    "print(s,t)"
   ]
  },
  {
   "cell_type": "markdown",
   "metadata": {},
   "source": [
    "### ✅ Multiline Strings"
   ]
  },
  {
   "cell_type": "code",
   "execution_count": 23,
   "metadata": {},
   "outputs": [
    {
     "name": "stdout",
     "output_type": "stream",
     "text": [
      " This is \n",
      "a \n",
      "multiline\n",
      "string \n",
      "\n"
     ]
    }
   ],
   "source": [
    "s = \"\"\" This is \n",
    "a \n",
    "multiline\n",
    "string \n",
    "\"\"\"\n",
    "\n",
    "print(s)"
   ]
  },
  {
   "cell_type": "markdown",
   "metadata": {},
   "source": [
    "### ✅ Escape Characters"
   ]
  },
  {
   "cell_type": "code",
   "execution_count": 26,
   "metadata": {},
   "outputs": [
    {
     "name": "stdout",
     "output_type": "stream",
     "text": [
      "He said \"HI\"\n",
      "Line1\n",
      "Line2\n",
      "Path: C:\\User\\\n"
     ]
    }
   ],
   "source": [
    "print(\"He said \\\"HI\\\"\")\n",
    "print(\"Line1\\nLine2\")  \n",
    "print(\"Path: C:\\\\User\\\\\")"
   ]
  },
  {
   "cell_type": "markdown",
   "metadata": {},
   "source": [
    "### ✅ String Operations"
   ]
  },
  {
   "cell_type": "code",
   "execution_count": 30,
   "metadata": {},
   "outputs": [
    {
     "name": "stdout",
     "output_type": "stream",
     "text": [
      "Hello World\n",
      "Hi Hi Hi \n",
      "True\n"
     ]
    }
   ],
   "source": [
    "s = \"Hello\" + \" World\"\n",
    "print(s)\n",
    "print(\"Hi \" *3)\n",
    "\n",
    "print(\"abc\" in \"abcbcasdfsd fsdf\")"
   ]
  },
  {
   "cell_type": "markdown",
   "metadata": {},
   "source": [
    "### ✅ Indexing & Slicing"
   ]
  },
  {
   "cell_type": "code",
   "execution_count": 35,
   "metadata": {},
   "outputs": [
    {
     "name": "stdout",
     "output_type": "stream",
     "text": [
      "P\n",
      "n\n",
      "Py\n",
      "nohtyP\n"
     ]
    }
   ],
   "source": [
    "s = \"Python\" # 0 1 2 3 4 5\n",
    "print(s[0])\n",
    "print(s[-1])\n",
    "print(s[0:2]) # 2 is not included \n",
    "print(s[::-1]) # nohtyp"
   ]
  },
  {
   "cell_type": "markdown",
   "metadata": {},
   "source": [
    "### ✅ Common String Methods"
   ]
  },
  {
   "cell_type": "code",
   "execution_count": 41,
   "metadata": {},
   "outputs": [
    {
     "name": "stdout",
     "output_type": "stream",
     "text": [
      "python\n",
      "PYTHON\n",
      "BYTHON\n",
      "True\n",
      "PYTHON\n"
     ]
    }
   ],
   "source": [
    "s = \"PYTHON\"\n",
    "print(s.lower())\n",
    "print(s.upper())\n",
    "print(s.replace(\"P\",\"B\"))\n",
    "print(s.startswith(\"PY\"))\n",
    "\n",
    "print(s)\n",
    "\n"
   ]
  },
  {
   "cell_type": "markdown",
   "metadata": {},
   "source": [
    "### ✅ Split and Join"
   ]
  },
  {
   "cell_type": "code",
   "execution_count": 44,
   "metadata": {},
   "outputs": [
    {
     "name": "stdout",
     "output_type": "stream",
     "text": [
      "['one ', ' two ', ' three']\n",
      "['join', 'these', 'words']\n",
      "join these words\n"
     ]
    }
   ],
   "source": [
    "s = \"one , two , three\"\n",
    "print(s.split(\",\"))\n",
    "\n",
    "w = [\"join\",\"these\",\"words\"]\n",
    "\n",
    "new_w = \" \".join(w)\n",
    "print(w)\n",
    "print(new_w)\n",
    "\n",
    "\n"
   ]
  },
  {
   "cell_type": "markdown",
   "metadata": {},
   "source": [
    "### ✅ Formatting Strings"
   ]
  },
  {
   "cell_type": "code",
   "execution_count": 45,
   "metadata": {},
   "outputs": [
    {
     "name": "stdout",
     "output_type": "stream",
     "text": [
      "My name is Alex and  iam 25 years old\n"
     ]
    }
   ],
   "source": [
    "name = \"Alex\"\n",
    "age = 25\n",
    "\n",
    "print(f\"My name is {name} and  iam {age} years old\")"
   ]
  },
  {
   "cell_type": "markdown",
   "metadata": {},
   "source": [
    "## 🎯 Pro Tips & Tricks"
   ]
  },
  {
   "cell_type": "code",
   "execution_count": 51,
   "metadata": {},
   "outputs": [
    {
     "name": "stdout",
     "output_type": "stream",
     "text": [
      "10 20 30\n",
      "20 10 30\n",
      "True\n"
     ]
    }
   ],
   "source": [
    "a,b,c = 10,20,30\n",
    "\n",
    "print(a,b,c)\n",
    "\n",
    "a,b = b,a\n",
    "print(a,b,c)\n",
    "\n",
    "name[::-1]\n",
    "\n",
    "\n",
    "# Palindorme Check\n",
    "s = \"radar\"\n",
    "print(s == s[::-1])\n",
    "\n"
   ]
  },
  {
   "cell_type": "markdown",
   "metadata": {},
   "source": [
    "## 🧪 Practice Exercises"
   ]
  },
  {
   "cell_type": "markdown",
   "metadata": {},
   "source": [
    "1. Create a variable for your name, age, and favorite food. Print them using an f-string.\n",
    "2. Reverse the string `\"Python is fun!\"`.\n",
    "3. Count the number of times the letter 'a' appears in `\"banana\"`.\n",
    "4. Create a function that checks if a number is even or odd.\n",
    "5. Format the result of dividing 10 by 3 to two decimal places."
   ]
  },
  {
   "cell_type": "code",
   "execution_count": null,
   "metadata": {},
   "outputs": [],
   "source": [
    "# Exercise 1\n",
    "name = \"YourName\"\n",
    "age = 25\n",
    "favorite_food = \"Pizza\"\n",
    "print(f\"My name is {name}, I am {age}, and my favorite food is {favorite_food}.\")\n",
    "\n",
    "# Exercise 2\n",
    "s = \"Python is fun!\"\n",
    "print(s[::-1])\n",
    "\n",
    "# Exercise 3\n",
    "word = \"banana\"\n",
    "print(word.count('a'))\n",
    "\n",
    "# Exercise 4\n",
    "def is_even(n):\n",
    "    return n % 2 == 0\n",
    "print(is_even(10))\n",
    "\n",
    "# Exercise 5\n",
    "result = 10 / 3\n",
    "print(f\"Result: {result:.2f}\")"
   ]
  },
  {
   "cell_type": "markdown",
   "metadata": {},
   "source": [
    "## 🚀 Summary Table"
   ]
  },
  {
   "cell_type": "markdown",
   "metadata": {},
   "source": [
    "| Feature    | Description                | Example                      |\n",
    "| ---------- | -------------------------- | ---------------------------- |\n",
    "| Variable   | Stores a value             | `x = 10`                     |\n",
    "| Number     | Integer, float, complex    | `5`, `3.14`, `4 + 3j`        |\n",
    "| Arithmetic | Math operations            | `+`, `-`, `*`, `/`, `**`     |\n",
    "| String     | Text enclosed in quotes    | `\"Hello\"`                    |\n",
    "| String ops | Indexing, slicing, methods | `s[0]`, `s.upper()`          |\n",
    "| Formatting | f-strings, format, %       | `f\"{name}\"`, `\"{}\".format()` |"
   ]
  }
 ],
 "metadata": {
  "kernelspec": {
   "display_name": "python-for-cv-xQdks3oV-py3.11",
   "language": "python",
   "name": "python3"
  },
  "language_info": {
   "codemirror_mode": {
    "name": "ipython",
    "version": 3
   },
   "file_extension": ".py",
   "mimetype": "text/x-python",
   "name": "python",
   "nbconvert_exporter": "python",
   "pygments_lexer": "ipython3",
   "version": "3.11.0"
  }
 },
 "nbformat": 4,
 "nbformat_minor": 5
}
