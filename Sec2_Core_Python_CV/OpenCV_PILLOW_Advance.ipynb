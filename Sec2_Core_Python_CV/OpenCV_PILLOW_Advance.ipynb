{
 "cells": [
  {
   "cell_type": "markdown",
   "metadata": {},
   "source": [
    "# Image Cropping and Augmentation Pipeline\n",
    "\n",
    "This notebook demonstrates how to automatically crop random patches from a set of BMP images using Python.\n",
    "\n",
    "We will use the following libraries:\n",
    "- `Pillow` for image loading and saving\n",
    "- `NumPy` for array manipulation\n",
    "- `glob` and `os` for file management\n",
    "\n",
    "**Chapters:**\n",
    "1. Imports\n",
    "2. Random Crop Function\n",
    "3. Image Loader and Cropper\n",
    "4. Running the Pipeline\n"
   ]
  },
  {
   "cell_type": "markdown",
   "metadata": {},
   "source": [
    "## 1. Imports\n",
    "\n",
    "Import required libraries for image processing and file management."
   ]
  },
  {
   "cell_type": "code",
   "execution_count": 23,
   "metadata": {},
   "outputs": [],
   "source": [
    "import os\n",
    "from glob import glob\n",
    "import numpy as np\n",
    "from PIL import Image"
   ]
  },
  {
   "cell_type": "code",
   "execution_count": 24,
   "metadata": {},
   "outputs": [
    {
     "name": "stdout",
     "output_type": "stream",
     "text": [
      "shape (Height, width, channel):  (379, 512, 3)\n",
      "image type:  uint8\n",
      "image size:  582144\n",
      "Pil image RGB , Size: (512, 379)\n"
     ]
    }
   ],
   "source": [
    "\n",
    "# OpenCV Read\n",
    "import cv2 as cv\n",
    "\n",
    "from PIL import Image\n",
    "\n",
    "img_cv = cv.imread(\"./img1.jpg\")\n",
    "\n",
    "if img_cv is None:\n",
    "    raise \"Error : Imahe not found\"\n",
    "    \n",
    "\n",
    "print(\"shape (Height, width, channel): \",img_cv.shape)\n",
    "print(\"image type: \", img_cv.dtype)\n",
    "print(\"image size: \", img_cv.size)\n",
    "\n",
    "\n",
    "try:    \n",
    "\n",
    "    img_pil = Image.open(\"./img1.jpg\")\n",
    "    print(f\"Pil image {img_pil.mode} , Size: {img_pil.size}\")\n",
    "except FileExistsError:\n",
    "    print(\"Error: image not found\")\n",
    "# Pillow Read\n",
    "    "
   ]
  },
  {
   "cell_type": "code",
   "execution_count": 30,
   "metadata": {},
   "outputs": [],
   "source": [
    "cropped = img_cv[0:300,0:500]\n",
    "cv.imshow(\"Cropped \",cropped)\n",
    "cv.waitKey(0)\n",
    "cv.destroyAllWindows()\n"
   ]
  },
  {
   "cell_type": "code",
   "execution_count": 29,
   "metadata": {},
   "outputs": [],
   "source": [
    "box = (0,0,500,300)\n",
    "cropped_pil = img_pil.crop(box)\n",
    "cropped_pil.show()"
   ]
  },
  {
   "cell_type": "markdown",
   "metadata": {},
   "source": [
    "## Advance"
   ]
  },
  {
   "cell_type": "markdown",
   "metadata": {},
   "source": [
    "## 2. Random Crop Function\n",
    "\n",
    "This function takes a NumPy image array and returns a random crop of the given size. If the image is too small, it returns `None`."
   ]
  },
  {
   "cell_type": "code",
   "execution_count": 31,
   "metadata": {},
   "outputs": [],
   "source": [
    "def get_random_crop(image, crop_height=200, crop_width=200):\n",
    "    \n",
    "    img_h, img_w = image.shape[:2]\n",
    "    \n",
    "    if img_h <crop_height or img_w <crop_width:\n",
    "        return None, False\n",
    "    \n",
    "    max_x = img_w - crop_width\n",
    "    max_y = img_h - crop_height\n",
    "    \n",
    "    x = np.random.randint(0,max_x)\n",
    "    y = np.random.randint(0,max_y)\n",
    "    \n",
    "    crop = image[y:y+crop_height, x:x+crop_width]\n",
    "    \n",
    "    return crop, True\n",
    "\n",
    "    \n",
    "    \n",
    "    \n",
    "    "
   ]
  },
  {
   "cell_type": "markdown",
   "metadata": {},
   "source": [
    "## 3. Image Loader and Cropper\n",
    "\n",
    "This function loads all BMP images from the given directory, takes random crops, and saves them as PNG files in a new 'Crop' subdirectory."
   ]
  },
  {
   "cell_type": "code",
   "execution_count": null,
   "metadata": {},
   "outputs": [],
   "source": [
    "def loader(img_dir, crop_size = 200, channles = 3, n_crop = 5):\n",
    "    \n",
    "    img_files = glob(os.path.join(img_dir,\"*.png\"))\n",
    "    print(img_files)\n",
    "    crop_dir = os.path.join(img_dir,\"Cropped_Images\")\n",
    "    os.makedirs(crop_dir,exist_ok=True)\n",
    "    \n",
    "    for i, f in enumerate(img_files):\n",
    "        try:\n",
    "            \n",
    "            img = Image.open(f)\n",
    "            \n",
    "            img  = img.convert(\"RGB\") if channles==3 else img.convert(\"L\")\n",
    "            \n",
    "            img_arr = np.array(img)\n",
    "            \n",
    "            for idx in range(n_crop):\n",
    "                crop, valid = get_random_crop(img_arr)\n",
    "                if valid :\n",
    "                    crop_pil = Image.fromarray(crop).convert(\"RGB\")\n",
    "                    name = f\"Img_{i:05d}_{idx:05d}.png\"\n",
    "                    im_path = os.path.join(crop_dir,name)\n",
    "                    crop_pil.save(im_path)\n",
    "        except Exception as e:\n",
    "            print(f\"Could not process {e}\")        \n",
    "    "
   ]
  },
  {
   "cell_type": "code",
   "execution_count": null,
   "metadata": {},
   "outputs": [
    {
     "name": "stdout",
     "output_type": "stream",
     "text": [
      "['D:\\\\01-DATA\\\\dum\\\\c1\\\\000 - Copy (2) - Copy.png', 'D:\\\\01-DATA\\\\dum\\\\c1\\\\000 - Copy (2).png', 'D:\\\\01-DATA\\\\dum\\\\c1\\\\000 - Copy (3).png', 'D:\\\\01-DATA\\\\dum\\\\c1\\\\000 - Copy - Copy (2).png', 'D:\\\\01-DATA\\\\dum\\\\c1\\\\000 - Copy - Copy - Copy.png', 'D:\\\\01-DATA\\\\dum\\\\c1\\\\000 - Copy - Copy.png', 'D:\\\\01-DATA\\\\dum\\\\c1\\\\000 - Copy.png', 'D:\\\\01-DATA\\\\dum\\\\c1\\\\000.png']\n"
     ]
    }
   ],
   "source": []
  },
  {
   "cell_type": "markdown",
   "metadata": {},
   "source": [
    "## 4. Running the Pipeline\n",
    "\n",
    "Set your image directory and run the cropping function. This will create a new 'Crop' folder with cropped patches from your images."
   ]
  },
  {
   "cell_type": "code",
   "execution_count": 40,
   "metadata": {},
   "outputs": [
    {
     "name": "stdout",
     "output_type": "stream",
     "text": [
      "['D:\\\\01-DATA\\\\dum\\\\c1\\\\000 - Copy (2) - Copy.png', 'D:\\\\01-DATA\\\\dum\\\\c1\\\\000 - Copy (2).png', 'D:\\\\01-DATA\\\\dum\\\\c1\\\\000 - Copy (3).png', 'D:\\\\01-DATA\\\\dum\\\\c1\\\\000 - Copy - Copy (2).png', 'D:\\\\01-DATA\\\\dum\\\\c1\\\\000 - Copy - Copy - Copy.png', 'D:\\\\01-DATA\\\\dum\\\\c1\\\\000 - Copy - Copy.png', 'D:\\\\01-DATA\\\\dum\\\\c1\\\\000 - Copy.png', 'D:\\\\01-DATA\\\\dum\\\\c1\\\\000.png']\n"
     ]
    }
   ],
   "source": [
    "img_dir = r\"D:\\01-DATA\\dum\\c1\"\n",
    "# def loader(img_dir, crop_size = 200, channles = 3, n_crop = 5):\n",
    "\n",
    "loader(img_dir, crop_size= 200, channles=3,n_crop=2)"
   ]
  },
  {
   "cell_type": "markdown",
   "metadata": {},
   "source": [
    "## Interactive Cropping "
   ]
  },
  {
   "cell_type": "code",
   "execution_count": 42,
   "metadata": {},
   "outputs": [
    {
     "name": "stdout",
     "output_type": "stream",
     "text": [
      "Instructions:\n",
      "Draw rectangle with mouse, 's' to save, 'i' to skip, 'ESC' to quit.\n",
      "Done!\n"
     ]
    }
   ],
   "source": [
    "import os\n",
    "import cv2\n",
    "import numpy as np\n",
    "from PIL import Image\n",
    "from pathlib import Path\n",
    "\n",
    "# Parameters\n",
    "imagedir = r'D:\\01-DATA\\dum\\c1'\n",
    "img_format = 'png'  # or 'jpg', 'png'\n",
    "\n",
    "save_dir = os.path.join(imagedir, \"Cropped\")\n",
    "os.makedirs(save_dir, exist_ok=True)\n",
    "images = list(Path(imagedir).glob(f'**/*.{img_format}'))\n",
    "\n",
    "# Global variables for mouse callback\n",
    "drawing = False\n",
    "ix, iy = -1, -1\n",
    "img_show, img_copy, img_crop = None, None, None\n",
    "\n",
    "def draw(event, x, y, flags, param):\n",
    "    global ix, iy, drawing, img_show, img_copy, img_crop\n",
    "    if event == cv2.EVENT_LBUTTONDOWN:\n",
    "        drawing = True\n",
    "        ix, iy = x, y\n",
    "    elif event == cv2.EVENT_MOUSEMOVE and drawing:\n",
    "        img_show = img_copy.copy()\n",
    "        cv2.rectangle(img_show, (ix, iy), (x, y), (255, 255, 255), 2)\n",
    "    elif event == cv2.EVENT_LBUTTONUP:\n",
    "        drawing = False\n",
    "        x0, y0 = min(ix, x), min(iy, y)\n",
    "        x1, y1 = max(ix, x), max(iy, y)\n",
    "        img_show = img_copy.copy()\n",
    "        cv2.rectangle(img_show, (x0, y0), (x1, y1), (255, 255, 255), 2)\n",
    "        img_crop = img_copy[y0:y1, x0:x1]\n",
    "\n",
    "print(\"Instructions:\")\n",
    "print(\"Draw rectangle with mouse, 's' to save, 'i' to skip, 'ESC' to quit.\")\n",
    "\n",
    "cv2.namedWindow(\"CropTool\")\n",
    "cv2.setMouseCallback(\"CropTool\", draw)\n",
    "\n",
    "for img_path in images:\n",
    "    img = np.array(Image.open(img_path))\n",
    "    if img.ndim == 2:\n",
    "        img = cv2.cvtColor(img, cv2.COLOR_GRAY2BGR)\n",
    "    img_copy = img.copy()\n",
    "    img_show = img.copy()\n",
    "    img_crop = img.copy()\n",
    "\n",
    "    while True:\n",
    "        cv2.imshow(\"CropTool\", img_show)\n",
    "        key = cv2.waitKey(1) & 0xFF\n",
    "        if key == 27:  # ESC\n",
    "            cv2.destroyAllWindows()\n",
    "            print('Done!')\n",
    "            break\n",
    "        elif key == ord('s') and img_crop is not None:\n",
    "            out_path = os.path.join(save_dir, f\"crop_{img_path.stem}.{img_format}\")\n",
    "            Image.fromarray(img_crop).convert(\"L\").save(out_path)\n",
    "            break\n",
    "        elif key == ord('i'):\n",
    "            break\n",
    "    if key == 27:\n",
    "        break\n",
    "\n",
    "cv2.destroyAllWindows()\n"
   ]
  }
 ],
 "metadata": {
  "kernelspec": {
   "display_name": "python-for-cv-xQdks3oV-py3.11",
   "language": "python",
   "name": "python3"
  },
  "language_info": {
   "codemirror_mode": {
    "name": "ipython",
    "version": 3
   },
   "file_extension": ".py",
   "mimetype": "text/x-python",
   "name": "python",
   "nbconvert_exporter": "python",
   "pygments_lexer": "ipython3",
   "version": "3.11.0"
  }
 },
 "nbformat": 4,
 "nbformat_minor": 2
}
