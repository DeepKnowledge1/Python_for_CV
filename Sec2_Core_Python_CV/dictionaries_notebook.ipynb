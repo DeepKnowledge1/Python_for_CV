{
  "cells": [
    {
      "cell_type": "markdown",
      "metadata": {},
      "source": [
        "# 🐍 Python Dictionaries – The Beginner's Guide\n",
        "\n",
        "This notebook provides a comprehensive introduction to **dictionaries** in Python.\n",
        "\n",
        "This section includes:\n",
        "- Definitions\n",
        "- Syntax examples\n",
        "- Use cases\n",
        "- Performance insights\n",
        "- Interview questions\n",
        "- Quizzes\n",
        "\n",
        "Let's get started!"
      ]
    },
    {
      "cell_type": "markdown",
      "id": "ff2516d5",
      "metadata": {},
      "source": [
        "## 🔹 Dictionaries\n",
        "\n",
        "### ✅ What is a Dictionary?\n",
        "\n",
        "A dictionary stores **key-value pairs**, where keys must be unique and hashable (like strings, numbers, tuples)."
      ]
    },
    {
      "cell_type": "code",
      "execution_count": 13,
      "id": "99cb7f1e",
      "metadata": {},
      "outputs": [
        {
          "name": "stdout",
          "output_type": "stream",
          "text": [
            "{'name': 'jane', 'age': 25, 'city': 'NY'}\n"
          ]
        }
      ],
      "source": [
        "person= {}\n",
        "score = dict()\n",
        "person = dict(name = \"jane\", age=25, city = \"NY\")\n",
        "print(person)"
      ]
    },
    {
      "cell_type": "markdown",
      "id": "a377729e",
      "metadata": {},
      "source": [
        "### 🟡 Accessing Values"
      ]
    },
    {
      "cell_type": "code",
      "execution_count": 8,
      "id": "7b96c1cf",
      "metadata": {},
      "outputs": [
        {
          "name": "stdout",
          "output_type": "stream",
          "text": [
            "25\n"
          ]
        }
      ],
      "source": [
        "print(person[\"age\"])"
      ]
    },
    {
      "cell_type": "markdown",
      "id": "56dfd733",
      "metadata": {},
      "source": [
        "### 🔁 Modifying Dictionaries"
      ]
    },
    {
      "cell_type": "code",
      "execution_count": 14,
      "id": "80b1f130",
      "metadata": {},
      "outputs": [
        {
          "name": "stdout",
          "output_type": "stream",
          "text": [
            "{'name': 'jane', 'age': 30, 'email': 'deepp.knowledge@gmail.com'}\n"
          ]
        }
      ],
      "source": [
        "person[\"email\"] = \"deepp.knowledge@gmail.com\" # adde new \n",
        "person[\"age\"] = 30 # Update \n",
        "del person[\"city\"] # Delete\n",
        "\n",
        "print(person)"
      ]
    },
    {
      "cell_type": "markdown",
      "id": "b98bafee",
      "metadata": {},
      "source": [
        "### 📐 Dictionary Methods"
      ]
    },
    {
      "cell_type": "code",
      "execution_count": 21,
      "id": "a984f583",
      "metadata": {},
      "outputs": [
        {
          "name": "stdout",
          "output_type": "stream",
          "text": [
            "name jane\n",
            "age 30\n",
            "email deepp.knowledge@gmail.com\n"
          ]
        }
      ],
      "source": [
        "keys = person.keys()\n",
        "# print(keys)\n",
        "values = person.values()\n",
        "\n",
        "# print(values)\n",
        "\n",
        "# print(person.items())\n",
        "\n",
        "for key,value in person.items():\n",
        "    \n",
        "    print(key, value)"
      ]
    },
    {
      "cell_type": "markdown",
      "id": "additional_methods",
      "metadata": {},
      "source": [
        "### 🧰 More Dictionary Methods"
      ]
    },
    {
      "cell_type": "code",
      "execution_count": null,
      "id": "more_methods",
      "metadata": {},
      "outputs": [
        {
          "name": "stdout",
          "output_type": "stream",
          "text": [
            "Last item : ('age', 20)\n",
            "{}\n",
            "{'name': 'Alice', 'grade': 'A', 'age': 20}\n",
            "Email: alice@example.com\n",
            "Dictionary after setdefault: {'name': 'Alice', 'grade': 'A', 'age': 20, 'email': 'alice@example.com'}\n",
            "{'name': 'Alice', 'grade': 'A', 'age': 20, 'email': 'alice@example.com'}\n"
          ]
        }
      ],
      "source": [
        "student = {\"name\": \"Alex\", \"grade\":\"A\",\"age\":20}\n",
        "# student_age = student.pop(\"age\")\n",
        "# print(f\"Removed age: {student_age}\")\n",
        "# print(f\" Dictionary after removing the age {student}\")\n",
        "\n",
        "# popitem\n",
        "last_item = student.popitem()\n",
        "print(f\"Last item : {last_item}\")\n",
        "\n",
        "# remove all items\n",
        "\n",
        "student.clear()\n",
        "print(student)\n",
        "\n",
        "student = {\"name\":\"Alice\"}\n",
        "student.update({\"grade\":\"A\",\"age\":20})\n",
        "\n",
        "print(student)\n"
      ]
    },
    {
      "cell_type": "markdown",
      "id": "4047b085",
      "metadata": {},
      "source": [
        "### 🔄 Dictionary Comprehension"
      ]
    },
    {
      "cell_type": "code",
      "execution_count": 43,
      "id": "3897c237",
      "metadata": {},
      "outputs": [
        {
          "name": "stdout",
          "output_type": "stream",
          "text": [
            "{0: 0, 1: 1, 2: 4, 3: 9, 4: 16}\n",
            "{0: 0, 2: 4, 4: 16, 6: 36, 8: 64}\n",
            "{'Alex': 25, 'Bob': 30, 'Alice': 21}\n"
          ]
        }
      ],
      "source": [
        "# square value of nums 0 - 5\n",
        "\n",
        "squares = {x: x*x for x in range(5)}\n",
        "print(squares)\n",
        "\n",
        "even_squares = {x: x*x for x in range(10) if x%2 ==0}\n",
        "print(even_squares)\n",
        "\n",
        "\n",
        "names = [\"Alex\", \"Bob\", \"Alice\"]\n",
        "ages = [25,30,21]\n",
        "name_to_age = {name:age for name ,age in zip(names,ages)}\n",
        "\n",
        "print(name_to_age)\n"
      ]
    },
    {
      "cell_type": "markdown",
      "id": "nested_dicts",
      "metadata": {},
      "source": [
        "### 📚 Nested Dictionaries"
      ]
    },
    {
      "cell_type": "code",
      "execution_count": 51,
      "id": "nested_dict_example",
      "metadata": {},
      "outputs": [
        {
          "name": "stdout",
          "output_type": "stream",
          "text": [
            "Alex\n",
            "Bob\n",
            "ALice\n"
          ]
        }
      ],
      "source": [
        "users= {\n",
        "    \"user1\":{\n",
        "        \"name\":\"Alex\",\n",
        "        \"age\": 20,\n",
        "        \"address\":{\n",
        "            \"street\":\"main str\",\n",
        "            \"city\":\"NY\",\n",
        "            \"zip\":\"1000\"                        \n",
        "        }        \n",
        "    },\n",
        "    \n",
        "    \"user2\":{\n",
        "        \"name\":\"Bob\",\n",
        "        \"age\": 30,\n",
        "        \"address\":{\n",
        "            \"street\":\"center str\",\n",
        "            \"city\":\"NY\",\n",
        "            \"zip\":\"2000\"                        \n",
        "        }        \n",
        "    }            \n",
        "    \n",
        "}\n",
        "\n",
        "\n",
        "\n",
        "print(users[\"user1\"][\"name\"])\n",
        "print(users[\"user2\"][\"name\"])\n",
        "users[\"user2\"][\"name\"] = \"ALice\"\n",
        "print(users[\"user2\"][\"name\"])\n"
      ]
    },
    {
      "cell_type": "markdown",
      "id": "c898106b",
      "metadata": {},
      "source": [
        "## 🧠 Advanced Dictionary Techniques"
      ]
    },
    {
      "cell_type": "markdown",
      "id": "8a3c91d7",
      "metadata": {},
      "source": [
        "### Important Functions from `collections` Module\n",
        "\n",
        "The `collections` module provides specialized container datatypes that extend the functionality of dictionaries."
      ]
    },
    {
      "cell_type": "markdown",
      "id": "2911f083",
      "metadata": {},
      "source": [
        "## 1. `defaultdict`\n",
        "- A dictionary that provides a default value for missing keys.\n",
        "- Avoids `KeyError` when accessing non-existent keys."
      ]
    },
    {
      "cell_type": "code",
      "execution_count": 55,
      "id": "7a8f6e70",
      "metadata": {},
      "outputs": [
        {
          "name": "stdout",
          "output_type": "stream",
          "text": [
            "defaultdict(<class 'int'>, {'Welcome': 1, 'to': 1, 'Python': 2, 'for': 1, 'Computer': 1, 'Vision': 1})\n",
            "2\n",
            "0\n"
          ]
        }
      ],
      "source": [
        "from collections import defaultdict\n",
        "\n",
        "word_count = defaultdict(int)\n",
        "sentence = \"Welcome to Python for Computer Vision Python\"\n",
        "\n",
        "for word in sentence.split():\n",
        "    word_count[word] +=1\n",
        "\n",
        "\n",
        "print(word_count)\n",
        "print(word_count[\"Python\"])\n",
        "print(word_count[\"C++\"])\n",
        "\n",
        "\n"
      ]
    },
    {
      "cell_type": "markdown",
      "id": "c17b434b",
      "metadata": {},
      "source": [
        "## 2. `Counter`\n",
        "- A specialized dictionary for counting hashable objects.\n",
        "- Elements are stored as dictionary keys and their counts as values."
      ]
    },
    {
      "cell_type": "code",
      "execution_count": 59,
      "id": "8a9f9714",
      "metadata": {},
      "outputs": [
        {
          "name": "stdout",
          "output_type": "stream",
          "text": [
            "Counter({'a': 3, 'n': 2, 'b': 1})\n",
            "[('apples', 3)]\n"
          ]
        }
      ],
      "source": [
        "from collections import Counter\n",
        "\n",
        "c= Counter(\"banana\")\n",
        "print(c)\n",
        "\n",
        "words = [\"apples\",\"apples\",\"apples\", \"orage\",\"banana\",\"banana\"]\n",
        "\n",
        "words_count = Counter(words)\n",
        "\n",
        "\n",
        "print(words_count.most_common(1))\n"
      ]
    },
    {
      "cell_type": "markdown",
      "id": "chainmap_section",
      "metadata": {},
      "source": [
        "## 3. `ChainMap`\n",
        "- Combines multiple dictionaries into a single view.\n",
        "- Useful for creating nested scopes and contexts."
      ]
    },
    {
      "cell_type": "code",
      "execution_count": null,
      "id": "chainmap_example",
      "metadata": {},
      "outputs": [
        {
          "name": "stdout",
          "output_type": "stream",
          "text": [
            "ChainMap({'language': 'fr', 'font_size': 14}, {'theme': 'dark', 'language': 'en', 'font_size': 12})\n",
            "dark\n",
            "fr\n",
            "14\n",
            "light\n"
          ]
        }
      ],
      "source": [
        "from collections import ChainMap\n",
        "\n",
        "# Create dictionaries for different scopes\n",
        "defaults = {\"theme\": \"dark\", \"language\": \"en\", \"font_size\": 12}\n",
        "user_settings = {\"language\": \"fr\", \"font_size\": 14}\n",
        "\n",
        "# Combine into a ChainMap\n",
        "settings = ChainMap(user_settings, defaults)\n",
        "print(settings)\n",
        "\n",
        "# First found value is returned\n",
        "print(settings[\"theme\"])      # dark (from defaults)\n",
        "print(settings[\"language\"])   # fr (from user_settings)\n",
        "print(settings[\"font_size\"])  # 14 (from user_settings)\n",
        "\n",
        "# Adding a new level\n",
        "session_settings = {\"theme\": \"light\"}\n",
        "settings = ChainMap(session_settings, user_settings, defaults)\n",
        "print(settings[\"theme\"])  # light (from session_settings)"
      ]
    },
    {
      "cell_type": "markdown",
      "id": "dict_performance",
      "metadata": {},
      "source": [
        "## ⚡ Dictionary Performance\n",
        "\n",
        "Dictionaries in Python are implemented as hash tables, which provides:\n",
        "\n",
        "- **O(1)** average time complexity for lookups, insertions, and deletions\n",
        "- Fast access regardless of dictionary size\n",
        "- Memory overhead for hash table structure\n",
        "\n",
        "This makes dictionaries ideal for:\n",
        "- Caching results\n",
        "- Counting occurrences\n",
        "- Fast lookups by key\n",
        "- Representing relationships between data"
      ]
    },
    {
      "cell_type": "markdown",
      "id": "real_world",
      "metadata": {},
      "source": [
        "## 🌍 Real-World Dictionary Use Cases\n",
        "\n",
        "1. **Configuration settings**\n",
        "2. **Caching computed results**\n",
        "3. **Representing JSON data**\n",
        "4. **Counting occurrences**\n",
        "5. **Mapping between related data**\n",
        "6. **Implementing simple databases**\n",
        "7. **Language translation tables**"
      ]
    },
    {
      "cell_type": "markdown",
      "id": "e9fb6b07",
      "metadata": {},
      "source": [
        "\n",
        "\n",
        "### Performance Comparison\n",
        "\n",
        "| 🏷️ **Operation**         | 📝 **List**<br>Performance<br>Code Example | 🔗 **Tuple**<br>Performance<br>Code Example | 📚 **Dict**<br>Performance<br>Code Example               |      🌟 **Best Use Case**      |\n",
        "| ------------------------- | ------------------------------------------ | ------------------------------------------- | -------------------------------------------------------- | :----------------------------: |\n",
        "| **Access (index)**        | O(1)<br>`lst[0]`                           | O(1)<br>`tup[0]`                            | –                                                        |         Quick sequences        |\n",
        "| **Lookup (key)**          | –                                          | –                                           | O(1) avg<br>`dct['key']`                                 |          Fast mappings         |\n",
        "| **Append/Pop (end)**      | O(1)<br>`lst.append(x)`<br>`lst.pop()`     | –                                           | –                                                        |        Dynamic sequences       |\n",
        "| **Insert/Delete (mid)**   | O(n)<br>`lst.insert(1, x)`<br>`lst.pop(1)` | –                                           | –                                                        |          Few mutations         |\n",
        "| **Membership (`in`)**     | O(n)<br>`x in lst`                         | O(n)<br>`x in tup`                          | O(1) avg<br>`'key' in dct`                               |      Dicts for fast lookup     |\n",
        "| **Find (index/position)** | O(n)<br>`lst.index(x)`                     | O(n)<br>`tup.index(x)`                      | O(1) avg<br>`dct.get('key')`<br>*(by key, not position)* | Find/search; dicts: get by key |\n",
        "| **Memory overhead**       | Low                                        | 🟢 Lower                                    | 🔴 Higher                                                |   Tuples: smallest footprint   |\n"
      ]
    },
    {
      "cell_type": "markdown",
      "id": "4e20834f",
      "metadata": {},
      "source": [
        "0 1 2 6 5 8 4 9 7 5 \n",
        "0 1 2 3 4 5 6 7 8 "
      ]
    },
    {
      "cell_type": "markdown",
      "id": "practice_exercises",
      "metadata": {},
      "source": [
        "## 📝 Practice Exercises\n",
        "\n",
        "### Exercise 1: Create and Modify a Dictionary\n",
        "Create a dictionary for a student with name, age, and grades. Then add a new field and update an existing one."
      ]
    },
    {
      "cell_type": "code",
      "execution_count": null,
      "id": "exercise1",
      "metadata": {},
      "outputs": [],
      "source": [
        "# Your solution here\n",
        "student = {\n",
        "    \"name\": \"Emma Johnson\",\n",
        "    \"age\": 19,\n",
        "    \"grades\": {\"math\": 92, \"english\": 88, \"history\": 95}\n",
        "}\n",
        "\n",
        "# Add a new field\n",
        "student[\"email\"] = \"emma.j@example.com\"\n",
        "\n",
        "# Update an existing field\n",
        "student[\"grades\"][\"science\"] = 90\n",
        "\n",
        "print(student)"
      ]
    },
    {
      "cell_type": "markdown",
      "id": "exercise2_header",
      "metadata": {},
      "source": [
        "### Exercise 2: Word Frequency Counter\n",
        "Write a function that counts the frequency of each word in a given text using a dictionary."
      ]
    },
    {
      "cell_type": "code",
      "execution_count": null,
      "id": "exercise2",
      "metadata": {},
      "outputs": [],
      "source": [
        "# Your solution here\n",
        "def word_frequency(text):\n",
        "    # Remove punctuation and convert to lowercase\n",
        "    for char in '.,!?;:\"()':\n",
        "        text = text.replace(char, '')\n",
        "    text = text.lower()\n",
        "    \n",
        "    # Split into words\n",
        "    words = text.split()\n",
        "    \n",
        "    # Count frequency\n",
        "    frequency = {}\n",
        "    for word in words:\n",
        "        if word in frequency:\n",
        "            frequency[word] += 1\n",
        "        else:\n",
        "            frequency[word] = 1\n",
        "    \n",
        "    return frequency\n",
        "\n",
        "sample_text = \"Python is amazing. Python is also easy to learn. I love Python!\"\n",
        "print(word_frequency(sample_text))"
      ]
    },
    {
      "cell_type": "markdown",
      "id": "quiz_section",
      "metadata": {},
      "source": [
        "## 🧠 Quiz: Test Your Knowledge\n",
        "\n",
        "1. Which of the following is NOT a valid way to create an empty dictionary?\n",
        "   - A) `{}`\n",
        "   - B) `dict()`\n",
        "   - C) `{:}`\n",
        "   - D) `dict([])`\n",
        "\n",
        "2. What happens when you try to access a key that doesn't exist in a dictionary using square brackets?\n",
        "   - A) It returns None\n",
        "   - B) It returns an empty string\n",
        "   - C) It raises a KeyError\n",
        "   - D) It creates the key with a default value\n",
        "\n",
        "3. Which method returns a default value if the key is not found?\n",
        "   - A) `find()`\n",
        "   - B) `get()`\n",
        "   - C) `default()`\n",
        "   - D) `fetch()`\n",
        "\n",
        "4. What is the output of `{1: 'a', 2: 'b'}.keys()`?\n",
        "   - A) `[1, 2]`\n",
        "   - B) `('1', '2')`\n",
        "   - C) A dict_keys object with values [1, 2]\n",
        "   - D) `{1, 2}`\n",
        "\n",
        "5. Which collection type from the collections module automatically provides default values for missing keys?\n",
        "   - A) `OrderedDict`\n",
        "   - B) `defaultdict`\n",
        "   - C) `Counter`\n",
        "   - D) `ChainMap`\n",
        "\n",
        "Answers: 1-C, 2-C, 3-B, 4-C, 5-B"
      ]
    },
    {
      "cell_type": "markdown",
      "id": "next_steps",
      "metadata": {},
      "source": [
        "## 🔜 Next Steps\n",
        "\n",
        "Congratulations! You've now learned about Python's three main collection types: lists, tuples, and dictionaries. With these fundamentals, you're ready to start building more complex Python programs and data structures!"
      ]
    }
  ],
  "metadata": {
    "kernelspec": {
      "display_name": "python-for-cv-xQdks3oV-py3.11",
      "language": "python",
      "name": "python3"
    },
    "language_info": {
      "codemirror_mode": {
        "name": "ipython",
        "version": 3
      },
      "file_extension": ".py",
      "mimetype": "text/x-python",
      "name": "python",
      "nbconvert_exporter": "python",
      "pygments_lexer": "ipython3",
      "version": "3.11.0"
    }
  },
  "nbformat": 4,
  "nbformat_minor": 5
}
