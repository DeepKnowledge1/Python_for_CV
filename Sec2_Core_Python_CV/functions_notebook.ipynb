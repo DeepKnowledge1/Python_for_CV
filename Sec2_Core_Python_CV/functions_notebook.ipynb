{
  "cells": [
    {
      "cell_type": "markdown",
      "metadata": {},
      "source": [
        "# Python Functions: A Comprehensive Guide for Beginners"
      ]
    },
    {
      "cell_type": "markdown",
      "metadata": {},
      "source": [
        "## Table of Contents\n",
        "1. [Introduction to Functions](#Introduction-to-Functions)\n",
        "2. [Defining and Calling Functions](#Defining-and-Calling-Functions)\n",
        "3. [Function Parameters and Arguments](#Function-Parameters-and-Arguments)\n",
        "4. [Return Values](#Return-Values)\n",
        "5. [Variable Scope](#Variable-Scope)\n",
        "6. [Lambda Functions](#Lambda-Functions)\n",
        "7. [Docstrings](#Docstrings)\n",
        "8. [Recursive Functions](#Recursive-Functions)\n",
        "9. [Function Decorators](#Function-Decorators)\n",
        "10. [Generators](#Generators)\n",
        "11. [Best Practices](#Best-Practices)\n",
        "12. [Tricks and Tips](#Tricks-and-Tips)\n",
        "13. [Common Mistakes](#Common-Mistakes)\n",
        "14. [Interview Questions](#Interview-Questions)\n",
        "15. [Final Quiz](#Final-Quiz)"
      ]
    },
    {
      "cell_type": "markdown",
      "metadata": {},
      "source": [
        "## Introduction to Functions\n",
        "Functions are reusable blocks of code that perform a specific task. They help:\n",
        "- Organize code into logical chunks\n",
        "- Avoid repetition\n",
        "- Make code easier to read and maintain\n",
        "- Allow code reuse"
      ]
    },
    {
      "cell_type": "markdown",
      "metadata": {},
      "source": [
        "## Defining and Calling Functions"
      ]
    },
    {
      "cell_type": "markdown",
      "metadata": {},
      "source": [
        "| Type                      | Example                                 |\n",
        "|---------------------------|------------------------------------------|\n",
        "| No args, no return        | `def say_hello(): print(\"Hello!\")`       |\n",
        "| Args, no return           | `def greet(name): print(\"Hi\", name)`     |\n",
        "| Args, with return         | `def square(x): return x * x`            |\n",
        "| Multiple returns          | `return min(), max(), avg()`             |"
      ]
    },
    {
      "cell_type": "markdown",
      "metadata": {},
      "source": [
        "### Basic Function Syntax"
      ]
    },
    {
      "cell_type": "code",
      "execution_count": 44,
      "metadata": {},
      "outputs": [
        {
          "name": "stdout",
          "output_type": "stream",
          "text": [
            "Hello from a function\n"
          ]
        }
      ],
      "source": [
        "def function_name():\n",
        "    #code to execute \n",
        "    print(\"Hello from a function\")\n",
        "    \n",
        "    \n",
        "# calling function\n",
        "function_name()\n",
        "\n",
        "\n",
        "g_var = 20"
      ]
    },
    {
      "cell_type": "markdown",
      "metadata": {},
      "source": [
        "### Function with Parameters"
      ]
    },
    {
      "cell_type": "code",
      "execution_count": null,
      "metadata": {},
      "outputs": [
        {
          "name": "stdout",
          "output_type": "stream",
          "text": [
            "Hello Bob\n"
          ]
        }
      ],
      "source": [
        "# name = Alex\n",
        "\n",
        "def greeting(name):\n",
        "    print(f\"Hello {name}\")\n",
        "    \n",
        "\n",
        "greeting(\"Bob\") "
      ]
    },
    {
      "cell_type": "markdown",
      "metadata": {},
      "source": [
        "## Function Parameters and Arguments"
      ]
    },
    {
      "cell_type": "markdown",
      "metadata": {},
      "source": [
        "### Positional Arguments"
      ]
    },
    {
      "cell_type": "code",
      "execution_count": 19,
      "metadata": {},
      "outputs": [
        {
          "name": "stdout",
          "output_type": "stream",
          "text": [
            "I have a Dog named Bobi\n"
          ]
        }
      ],
      "source": [
        "def desctibe_pet(animal_type, animal_name):\n",
        "    print(f\"I have a {animal_type} named {animal_name}\")\n",
        "    \n",
        "    \n",
        "desctibe_pet(\"Dog\",\"Bobi\") \n",
        "\n",
        "    "
      ]
    },
    {
      "cell_type": "markdown",
      "metadata": {},
      "source": [
        "### Keyword Arguments"
      ]
    },
    {
      "cell_type": "code",
      "execution_count": 20,
      "metadata": {},
      "outputs": [
        {
          "name": "stdout",
          "output_type": "stream",
          "text": [
            "I have a Dog named Bobi\n",
            "I have a Dog named Bobi\n"
          ]
        }
      ],
      "source": [
        "desctibe_pet(animal_type=\"Dog\",animal_name=\"Bobi\") \n",
        "desctibe_pet(animal_name=\"Bobi\",animal_type=\"Dog\") \n"
      ]
    },
    {
      "cell_type": "markdown",
      "metadata": {},
      "source": [
        "### Default Arguments"
      ]
    },
    {
      "cell_type": "code",
      "execution_count": 22,
      "metadata": {},
      "outputs": [
        {
          "name": "stdout",
          "output_type": "stream",
          "text": [
            "I have a Dog named Bobi\n",
            "I have a Monkey named Bobi\n"
          ]
        }
      ],
      "source": [
        "def desctibe_pet(animal_name,animal_type = \"Dog\"):\n",
        "    print(f\"I have a {animal_type} named {animal_name}\")\n",
        "\n",
        "\n",
        "desctibe_pet(animal_name=\"Bobi\") \n",
        "\n",
        "desctibe_pet(animal_name=\"Bobi\",animal_type=\"Monkey\") \n"
      ]
    },
    {
      "cell_type": "markdown",
      "metadata": {},
      "source": [
        "### Arbitrary Arguments (*args)"
      ]
    },
    {
      "cell_type": "code",
      "execution_count": 26,
      "metadata": {},
      "outputs": [
        {
          "name": "stdout",
          "output_type": "stream",
          "text": [
            "Making pizza with :\n",
            " - Mushrooms\n",
            " - extra_cheese\n",
            " - green_peppers\n"
          ]
        }
      ],
      "source": [
        "def make_pizza(*toppings):\n",
        "    print(\"Making pizza with :\")\n",
        "    \n",
        "    for topping in toppings:\n",
        "        print(f\" - {topping}\")\n",
        "        \n",
        "\n",
        "# make_pizza(\"Mushrooms\")\n",
        "make_pizza(\"Mushrooms\", \"extra_cheese\",\"green_peppers\")"
      ]
    },
    {
      "cell_type": "markdown",
      "metadata": {},
      "source": [
        "### Arbitrary Keyword Arguments (**kwargs)"
      ]
    },
    {
      "cell_type": "code",
      "execution_count": null,
      "metadata": {},
      "outputs": [
        {
          "name": "stdout",
          "output_type": "stream",
          "text": [
            "{'age': 30, 'job': 'Eng', 'First_Name': 'Alex', 'Last_Name': 'Doe'}\n"
          ]
        }
      ],
      "source": [
        "def build_profile(first,last, **user_info):\n",
        "    user_info[\"First_Name\"] = first\n",
        "    user_info[\"Last_Name\"] = last\n",
        "    \n",
        "    return user_info\n",
        "\n",
        "info = build_profile(first=\"Alex\",last=\"Doe\",age= 30, job=\"Eng\",)\n",
        "\n",
        "print(info)\n",
        "\n",
        "    "
      ]
    },
    {
      "cell_type": "markdown",
      "metadata": {},
      "source": [
        "## Return Values"
      ]
    },
    {
      "cell_type": "code",
      "execution_count": null,
      "metadata": {},
      "outputs": [
        {
          "name": "stdout",
          "output_type": "stream",
          "text": [
            "3\n"
          ]
        }
      ],
      "source": [
        "def add_numers(a,b):\n",
        "    return (a+b)\n",
        "\n",
        "\n",
        "result = add_numers(5,8)\n",
        "\n",
        "res = result -10\n",
        "\n",
        "\n",
        "print(res)\n"
      ]
    },
    {
      "cell_type": "markdown",
      "metadata": {},
      "source": [
        "### Multiple Return Values"
      ]
    },
    {
      "cell_type": "code",
      "execution_count": 39,
      "metadata": {},
      "outputs": [],
      "source": [
        "def get_name():\n",
        "    first =\"Alex\"\n",
        "    last = \"Doe\"\n",
        "    return first, last\n",
        "\n",
        "\n",
        "first_name ,last_name = get_name()\n"
      ]
    },
    {
      "cell_type": "markdown",
      "metadata": {},
      "source": [
        "## Variable Scope"
      ]
    },
    {
      "cell_type": "markdown",
      "metadata": {},
      "source": [
        "### Local Variables"
      ]
    },
    {
      "cell_type": "code",
      "execution_count": null,
      "metadata": {},
      "outputs": [
        {
          "name": "stdout",
          "output_type": "stream",
          "text": [
            "10\n",
            "80\n"
          ]
        }
      ],
      "source": [
        "def function():\n",
        "    x = 10\n",
        "    print(x)\n",
        "    \n",
        "\n",
        "function()\n"
      ]
    },
    {
      "cell_type": "markdown",
      "metadata": {},
      "source": [
        "### Global Variables"
      ]
    },
    {
      "cell_type": "code",
      "execution_count": null,
      "metadata": {},
      "outputs": [
        {
          "name": "stdout",
          "output_type": "stream",
          "text": [
            "50\n",
            "50\n"
          ]
        }
      ],
      "source": [
        "y = 50\n",
        "\n",
        "def yfunction():\n",
        "    print(y)\n",
        "\n",
        "yfunction()\n",
        "\n",
        "print(y)"
      ]
    },
    {
      "cell_type": "markdown",
      "metadata": {},
      "source": [
        "### Modifying Global Variables"
      ]
    },
    {
      "cell_type": "code",
      "execution_count": 56,
      "metadata": {},
      "outputs": [
        {
          "name": "stdout",
          "output_type": "stream",
          "text": [
            "800\n",
            "800\n"
          ]
        }
      ],
      "source": [
        "z = 90\n",
        "def modify_gloabl():\n",
        "    \n",
        "    global z\n",
        "    z = 800\n",
        "    print(z)\n",
        "\n",
        "modify_gloabl()\n",
        "\n",
        "print(z)"
      ]
    },
    {
      "cell_type": "markdown",
      "metadata": {},
      "source": [
        "## Lambda Functions"
      ]
    },
    {
      "cell_type": "code",
      "execution_count": 65,
      "metadata": {},
      "outputs": [
        {
          "name": "stdout",
          "output_type": "stream",
          "text": [
            "100\n",
            "[1, 4, 9, 16, 25, 36]\n"
          ]
        }
      ],
      "source": [
        "square = lambda x: x*x\n",
        "\n",
        "print(square(10))\n",
        "\n",
        "# map\n",
        "nums = [1,2,3,4,5,6]\n",
        "squared = list(map(square , nums))\n",
        "\n",
        "print(squared)\n",
        "\n",
        "\n"
      ]
    },
    {
      "cell_type": "markdown",
      "metadata": {},
      "source": [
        "## Docstrings"
      ]
    },
    {
      "cell_type": "code",
      "execution_count": null,
      "metadata": {},
      "outputs": [],
      "source": [
        "def add(a,b):\n",
        "    \"\"\"\n",
        "    Add two numbers and return the result\n",
        "\n",
        "    Args:\n",
        "        a (int or float): first number\n",
        "        b (int or float): second number \n",
        "    \n",
        "    Returns :\n",
        "    int or float: sum of a and b\n",
        "    \"\"\"\n",
        "    \n",
        "    return a+b\n",
        "\n",
        "\n",
        "# print(add.__doc__)\n",
        "\n",
        "help(add)\n",
        "    \n"
      ]
    },
    {
      "cell_type": "markdown",
      "metadata": {},
      "source": [
        "## Recursive Functions"
      ]
    },
    {
      "cell_type": "code",
      "execution_count": 71,
      "metadata": {},
      "outputs": [
        {
          "name": "stdout",
          "output_type": "stream",
          "text": [
            "120\n"
          ]
        }
      ],
      "source": [
        "\n",
        "# 5: 5 *4 *3 *2 *1  = 120\n",
        "def factoial(n):\n",
        "    \n",
        "    if n ==1 :\n",
        "        return 1\n",
        "    else:\n",
        "        return n*factoial(n-1)\n",
        "    \n",
        "print(factoial(5))\n",
        "        "
      ]
    },
    {
      "cell_type": "markdown",
      "metadata": {},
      "source": [
        "## Function Decorators"
      ]
    },
    {
      "cell_type": "code",
      "execution_count": 2,
      "metadata": {},
      "outputs": [
        {
          "name": "stdout",
          "output_type": "stream",
          "text": [
            " Running time tooks about 0.0 secs\n",
            "40320\n"
          ]
        }
      ],
      "source": [
        "from time import time\n",
        "\n",
        "\n",
        "def time_it(func):\n",
        "    def wrapper(*args, **kwargs):\n",
        "        start_time = time()        \n",
        "        res = func(*args, **kwargs) \n",
        "                \n",
        "        end_time = time()\n",
        "        running_time = end_time - start_time\n",
        "        \n",
        "        print(f\" Running time tooks about {running_time} secs\")\n",
        "        \n",
        "        return res\n",
        "    return wrapper\n",
        "\n",
        "@time_it\n",
        "def my_function(n):\n",
        "    res = 1\n",
        "    for i in range(n): \n",
        "        res *= i+1\n",
        "        \n",
        "    return res\n",
        "    \n",
        "    \n",
        "\n",
        "print(my_function(8))\n",
        "\n",
        "\n"
      ]
    },
    {
      "cell_type": "markdown",
      "metadata": {},
      "source": [
        "## Generators"
      ]
    },
    {
      "cell_type": "code",
      "execution_count": null,
      "metadata": {},
      "outputs": [],
      "source": [
        "from time import sleep\n",
        "def count_up_to(max):\n",
        "    count = 1\n",
        "    while count <= max:\n",
        "        yield count\n",
        "        count +=1\n",
        "\n",
        "counter = count_up_to(10)\n",
        "\n",
        "for num in counter:\n",
        "    print(num)\n",
        "    sleep(2)\n",
        "    \n",
        "    \n"
      ]
    },
    {
      "cell_type": "markdown",
      "metadata": {},
      "source": [
        "## Best Practices"
      ]
    },
    {
      "cell_type": "code",
      "execution_count": null,
      "metadata": {},
      "outputs": [
        {
          "name": "stdout",
          "output_type": "stream",
          "text": [
            "True\n"
          ]
        }
      ],
      "source": [
        "def parm(i):\n",
        "    if i == 0:             \n",
        "        return False    \n",
        "    elif i <1:\n",
        "        return False\n",
        "    return None\n",
        "\n",
        "print(parm(8))\n",
        "\n",
        "            "
      ]
    },
    {
      "cell_type": "markdown",
      "metadata": {},
      "source": [
        "1. **Use descriptive function names** - Names should indicate what the function does (e.g., `calculate_total_price` instead of `calc_price`)\n",
        "2. **Keep functions small and focused** - Each function should do one thing well\n",
        "3. **Use docstrings to document functions** - Follow a consistent format (e.g., NumPy, Google, or reStructuredText style)\n",
        "4. **Limit the number of parameters** - Aim for 3-4 parameters maximum; use data structures for related parameters\n",
        "5. **Avoid modifying mutable arguments** - This can lead to unexpected side effects\n",
        "6. **Return values consistently** - All code paths should either return a value or None\n",
        "7. **Use type hints for better code clarity** - Helps with documentation and static type checking\n",
        "8. **Follow the DRY principle** - Don't Repeat Yourself; extract common code into functions\n",
        "9. **Use meaningful parameter names** - Names should indicate the purpose of each parameter\n",
        "10. **Provide default values when appropriate** - Makes functions more flexible and easier to use"
      ]
    },
    {
      "cell_type": "markdown",
      "metadata": {},
      "source": [
        "## Tricks and Tips"
      ]
    },
    {
      "cell_type": "markdown",
      "metadata": {},
      "source": [
        "### 1. Unpacking Arguments"
      ]
    },
    {
      "cell_type": "code",
      "execution_count": null,
      "metadata": {},
      "outputs": [
        {
          "name": "stdout",
          "output_type": "stream",
          "text": [
            "6\n"
          ]
        }
      ],
      "source": [
        "def add (a,b,c):\n",
        "    return a+b+c\n",
        "\n",
        "nums = (1,2,3)\n",
        "res = add(*nums)\n",
        "print(res)\n"
      ]
    },
    {
      "cell_type": "markdown",
      "metadata": {},
      "source": [
        "### 2. Dictionary as Arguments"
      ]
    },
    {
      "cell_type": "code",
      "execution_count": 11,
      "metadata": {},
      "outputs": [
        {
          "name": "stdout",
          "output_type": "stream",
          "text": [
            "Hello Alex\n"
          ]
        }
      ],
      "source": [
        "def greet(name, greeting):\n",
        "    print(f\"{greeting} {name}\")\n",
        "\n",
        "parm ={\"name\":\"Alex\", \"greeting\":\"Hello\"}\n",
        "greet(**parm)"
      ]
    },
    {
      "cell_type": "markdown",
      "metadata": {},
      "source": [
        "### 3. Multiple Return Types"
      ]
    },
    {
      "cell_type": "code",
      "execution_count": 12,
      "metadata": {},
      "outputs": [
        {
          "name": "stdout",
          "output_type": "stream",
          "text": [
            "1 9\n"
          ]
        }
      ],
      "source": [
        "def min_max(nums):\n",
        "    return min(nums), max(nums)\n",
        "\n",
        "low_v, high_v= min_max([1,5,8,8,9])\n",
        "print(low_v, high_v)\n"
      ]
    },
    {
      "cell_type": "markdown",
      "metadata": {},
      "source": [
        "### 4. Function Annotations"
      ]
    },
    {
      "cell_type": "code",
      "execution_count": null,
      "metadata": {},
      "outputs": [],
      "source": [
        "def square(x:int)->int :\n",
        "    if not isinstance(x,int):\n",
        "        raise TypeError(\"x must be int\")\n",
        "    return x*x\n",
        "\n",
        "\n",
        "print(square(2))\n",
        "\n",
        "print(square.__annotations__)\n",
        "\n",
        "\n",
        "#mypy\n"
      ]
    },
    {
      "cell_type": "markdown",
      "metadata": {},
      "source": [
        "### 5. Memoization (Caching)"
      ]
    },
    {
      "cell_type": "code",
      "execution_count": 23,
      "metadata": {},
      "outputs": [
        {
          "name": "stdout",
          "output_type": "stream",
          "text": [
            "354224848179261915075\n"
          ]
        }
      ],
      "source": [
        "# fib : 0, 1, 1, 2, 3, 5, 8, 13, 21, 34, 55, 89, 144\n",
        "\n",
        "from functools import lru_cache\n",
        "\n",
        "@lru_cache(maxsize=None)\n",
        "def fib (n):\n",
        "    if n <=1:\n",
        "        return n\n",
        "    return fib(n-1) + fib(n-2)\n",
        "\n",
        "\n",
        "print(fib(100))\n"
      ]
    },
    {
      "cell_type": "markdown",
      "metadata": {},
      "source": [
        "### 7. Using `*` to Force Keyword Arguments"
      ]
    },
    {
      "cell_type": "code",
      "execution_count": 27,
      "metadata": {},
      "outputs": [
        {
          "name": "stdout",
          "output_type": "stream",
          "text": [
            "50\n"
          ]
        }
      ],
      "source": [
        "def area (*,width, height):\n",
        "    return width *height\n",
        "\n",
        "\n",
        "print(area(width=10,height=5))\n",
        "# print(area(10,5))"
      ]
    },
    {
      "cell_type": "markdown",
      "metadata": {},
      "source": [
        "### 8. Function Composition"
      ]
    },
    {
      "cell_type": "code",
      "execution_count": null,
      "metadata": {},
      "outputs": [],
      "source": []
    },
    {
      "cell_type": "markdown",
      "metadata": {},
      "source": [
        "### 9. Partial Functions"
      ]
    },
    {
      "cell_type": "code",
      "execution_count": null,
      "metadata": {},
      "outputs": [],
      "source": []
    },
    {
      "cell_type": "markdown",
      "metadata": {},
      "source": [
        "### 10. Context Managers with Functions"
      ]
    },
    {
      "cell_type": "code",
      "execution_count": null,
      "metadata": {},
      "outputs": [],
      "source": []
    },
    {
      "cell_type": "markdown",
      "metadata": {},
      "source": [
        "### 11. Function Singledispatch - Method Overloading"
      ]
    },
    {
      "cell_type": "code",
      "execution_count": null,
      "metadata": {},
      "outputs": [],
      "source": []
    },
    {
      "cell_type": "markdown",
      "metadata": {},
      "source": [
        "### 12. Function Attributes"
      ]
    },
    {
      "cell_type": "code",
      "execution_count": null,
      "metadata": {},
      "outputs": [],
      "source": []
    },
    {
      "cell_type": "markdown",
      "metadata": {},
      "source": [
        "### 13. Currying Functions"
      ]
    },
    {
      "cell_type": "code",
      "execution_count": null,
      "metadata": {},
      "outputs": [],
      "source": []
    },
    {
      "cell_type": "markdown",
      "metadata": {},
      "source": [
        "## Common Mistakes"
      ]
    },
    {
      "cell_type": "markdown",
      "metadata": {},
      "source": [
        "### 1. Mutable Default Arguments"
      ]
    },
    {
      "cell_type": "code",
      "execution_count": null,
      "metadata": {},
      "outputs": [],
      "source": []
    },
    {
      "cell_type": "markdown",
      "metadata": {},
      "source": [
        "### 2. Returning None Unintentionally"
      ]
    },
    {
      "cell_type": "code",
      "execution_count": null,
      "metadata": {},
      "outputs": [],
      "source": []
    },
    {
      "cell_type": "markdown",
      "metadata": {},
      "source": [
        "### 3. Variable Scope Issues"
      ]
    },
    {
      "cell_type": "code",
      "execution_count": null,
      "metadata": {},
      "outputs": [],
      "source": []
    },
    {
      "cell_type": "markdown",
      "metadata": {},
      "source": [
        "## Interview Questions"
      ]
    },
    {
      "cell_type": "markdown",
      "metadata": {},
      "source": [
        "### 1. What is the difference between arguments and parameters?"
      ]
    },
    {
      "cell_type": "markdown",
      "metadata": {},
      "source": [
        "**Answer:** \n",
        "- **Parameters** are the variables listed in the function definition. They are placeholders for the values the function expects to receive.\n",
        "- **Arguments** are the actual values passed to the function when it is called.\n",
        "\n",
        "Example:\n",
        "```python\n",
        "def greet(name):  # 'name' is a parameter\n",
        "    print(f\"Hello, {name}!\")\n",
        "\n",
        "greet(\"Alice\")  # \"Alice\" is an argument\n",
        "```"
      ]
    },
    {
      "cell_type": "markdown",
      "metadata": {},
      "source": [
        "### 2. Explain the difference between `*args` and `**kwargs`."
      ]
    },
    {
      "cell_type": "markdown",
      "metadata": {},
      "source": [
        "**Answer:**\n",
        "- `*args` allows a function to accept any number of positional arguments. The arguments are collected into a tuple.\n",
        "- `**kwargs` allows a function to accept any number of keyword arguments. The arguments are collected into a dictionary.\n",
        "\n",
        "Example:\n",
        "```python\n",
        "def example_function(*args, **kwargs):\n",
        "    print(f\"Positional arguments: {args}\")\n",
        "    print(f\"Keyword arguments: {kwargs}\")\n",
        "\n",
        "example_function(1, 2, 3, name=\"Alice\", age=25)\n",
        "# Output:\n",
        "# Positional arguments: (1, 2, 3)\n",
        "# Keyword arguments: {'name': 'Alice', 'age': 25}\n",
        "```"
      ]
    },
    {
      "cell_type": "markdown",
      "metadata": {},
      "source": [
        "### 3. What is a lambda function and when would you use it?"
      ]
    },
    {
      "cell_type": "markdown",
      "metadata": {},
      "source": [
        "**Answer:**\n",
        "A lambda function is a small anonymous function defined with the `lambda` keyword. It can take any number of arguments but can only have one expression.\n",
        "\n",
        "Lambda functions are typically used:\n",
        "- When you need a simple function for a short period\n",
        "- As arguments to higher-order functions like `map()`, `filter()`, and `sorted()`\n",
        "- When defining simple callback functions\n",
        "\n",
        "Example:\n",
        "```python\n",
        "# Sort a list of tuples by the second element\n",
        "pairs = [(1, 'b'), (5, 'a'), (3, 'c')]\n",
        "sorted_pairs = sorted(pairs, key=lambda pair: pair[1])\n",
        "# Result: [(5, 'a'), (1, 'b'), (3, 'c')]\n",
        "```"
      ]
    },
    {
      "cell_type": "markdown",
      "metadata": {},
      "source": [
        "### 4. What is a decorator in Python?"
      ]
    },
    {
      "cell_type": "markdown",
      "metadata": {},
      "source": [
        "**Answer:**\n",
        "A decorator is a function that takes another function as an argument, extends its behavior without explicitly modifying it, and returns a new function. Decorators are a powerful way to modify or enhance functions or methods.\n",
        "\n",
        "Common uses of decorators include:\n",
        "- Adding logging, timing, or debugging capabilities\n",
        "- Access control and authentication\n",
        "- Caching and memoization\n",
        "- Input validation\n",
        "\n",
        "Example:\n",
        "```python\n",
        "def timing_decorator(func):\n",
        "    def wrapper(*args, **kwargs):\n",
        "        import time\n",
        "        start = time.time()\n",
        "        result = func(*args, **kwargs)\n",
        "        end = time.time()\n",
        "        print(f\"{func.__name__} took {end - start:.6f} seconds\")\n",
        "        return result\n",
        "    return wrapper\n",
        "\n",
        "@timing_decorator\n",
        "def slow_function():\n",
        "    import time\n",
        "    time.sleep(1)\n",
        "    return \"Done\"\n",
        "\n",
        "slow_function()  # Output: slow_function took 1.000123 seconds\n",
        "```"
      ]
    },
    {
      "cell_type": "markdown",
      "metadata": {},
      "source": [
        "### 5. What is the difference between a generator and a regular function?"
      ]
    },
    {
      "cell_type": "markdown",
      "metadata": {},
      "source": [
        "**Answer:**\n",
        "- A **regular function** uses the `return` statement to return a value and terminates after execution.\n",
        "- A **generator function** uses the `yield` statement to yield a value, pauses execution, and can resume from where it left off when called again.\n",
        "\n",
        "Key differences:\n",
        "1. Memory efficiency: Generators produce values one at a time, which is memory-efficient for large datasets.\n",
        "2. State preservation: Generators remember their state between calls.\n",
        "3. Lazy evaluation: Values are generated only when needed.\n",
        "\n",
        "Example:\n",
        "```python\n",
        "def regular_function(n):\n",
        "    result = []\n",
        "    for i in range(n):\n",
        "        result.append(i**2)\n",
        "    return result  # Returns all values at once\n",
        "\n",
        "def generator_function(n):\n",
        "    for i in range(n):\n",
        "        yield i**2  # Yields one value at a time\n",
        "\n",
        "# Regular function loads all values into memory\n",
        "squares = regular_function(1000000)  # Uses more memory\n",
        "\n",
        "# Generator produces values on demand\n",
        "squares_gen = generator_function(1000000)  # Uses minimal memory\n",
        "for square in squares_gen:\n",
        "    # Process one value at a time\n",
        "    pass\n",
        "```"
      ]
    },
    {
      "cell_type": "markdown",
      "metadata": {},
      "source": [
        "## Final Quiz"
      ]
    },
    {
      "cell_type": "markdown",
      "metadata": {},
      "source": [
        "1. What will be the output of the following code?\n",
        "```python\n",
        "def func(a, b=5, c=10):\n",
        "    print(a, b, c)\n",
        "func(3, 7)\n",
        "func(25, c=24)\n",
        "func(c=50, a=100)\n",
        "```\n",
        "\n",
        "2. What is wrong with this function?\n",
        "```python\n",
        "def calculate_average(numbers=[]):\n",
        "    numbers.append(0)\n",
        "    return sum(numbers) / len(numbers)\n",
        "```\n",
        "\n",
        "3. How would you create a function that accepts any number of positional and keyword arguments and prints them?\n",
        "\n",
        "4. What will be the output of the following code?\n",
        "```python\n",
        "def outer():\n",
        "    x = 1\n",
        "    def inner():\n",
        "        x = 2\n",
        "        print(\"inner:\", x)\n",
        "    inner()\n",
        "    print(\"outer:\", x)\n",
        "outer()\n",
        "```\n",
        "\n",
        "5. Write a decorator that measures and prints the execution time of a function.\n",
        "\n",
        "6. What is the difference between `return` and `yield` statements?\n",
        "\n",
        "7. How would you define a function with type hints that takes a string and an integer and returns a list of strings?\n",
        "\n",
        "8. What will be the output of the following code?\n",
        "```python\n",
        "def multiply(a, b=2):\n",
        "    return a * b\n",
        "\n",
        "print(multiply(3))\n",
        "print(multiply(4, 5))\n",
        "```\n",
        "\n",
        "9. How would you create a function that can only be called with keyword arguments?\n",
        "\n",
        "10. What is function recursion and what are its advantages and disadvantages?"
      ]
    },
    {
      "cell_type": "markdown",
      "metadata": {},
      "source": [
        "### Quiz Answers"
      ]
    },
    {
      "cell_type": "markdown",
      "metadata": {},
      "source": [
        "1. Output:\n",
        "```\n",
        "3 7 10\n",
        "25 5 24\n",
        "100 5 50\n",
        "```\n",
        "\n",
        "2. The function uses a mutable default argument (empty list), which is created only once when the function is defined. Each call to the function will modify the same list. A better implementation would be:\n",
        "```python\n",
        "def calculate_average(numbers=None):\n",
        "    if numbers is None:\n",
        "        numbers = []\n",
        "    numbers.append(0)\n",
        "    return sum(numbers) / len(numbers)\n",
        "```\n",
        "\n",
        "3. Solution:\n",
        "```python\n",
        "def print_all_args(*args, **kwargs):\n",
        "    print(\"Positional arguments:\", args)\n",
        "    print(\"Keyword arguments:\", kwargs)\n",
        "```\n",
        "\n",
        "4. Output:\n",
        "```\n",
        "inner: 2\n",
        "outer: 1\n",
        "```\n",
        "The inner function creates a new local variable `x` that shadows the outer `x`.\n",
        "\n",
        "5. Solution:\n",
        "```python\n",
        "import time\n",
        "\n",
        "def timing_decorator(func):\n",
        "    def wrapper(*args, **kwargs):\n",
        "        start = time.time()\n",
        "        result = func(*args, **kwargs)\n",
        "        end = time.time()\n",
        "        print(f\"{func.__name__} took {end - start:.6f} seconds\")\n",
        "        return result\n",
        "    return wrapper\n",
        "```\n",
        "\n",
        "6. `return` sends a value back to the caller and terminates the function, while `yield` sends a value back but pauses the function, saving its state for the next call.\n",
        "\n",
        "7. Solution:\n",
        "```python\n",
        "def repeat_string(text: str, times: int) -> list[str]:\n",
        "    return [text] * times\n",
        "```\n",
        "\n",
        "8. Output:\n",
        "```\n",
        "6\n",
        "20\n",
        "```\n",
        "\n",
        "9. Solution:\n",
        "```python\n",
        "def keyword_only_function(*, param1, param2):\n",
        "    return param1 + param2\n",
        "```\n",
        "\n",
        "10. Recursion is when a function calls itself. \n",
        "    - Advantages: Elegant solutions for problems that can be broken down into similar subproblems (e.g., tree traversal, factorial).\n",
        "    - Disadvantages: Can lead to stack overflow for deep recursion, often less efficient than iterative solutions, and can be harder to debug."
      ]
    }
  ],
  "metadata": {
    "kernelspec": {
      "display_name": "python-for-cv-xQdks3oV-py3.11",
      "language": "python",
      "name": "python3"
    },
    "language_info": {
      "codemirror_mode": {
        "name": "ipython",
        "version": 3
      },
      "file_extension": ".py",
      "mimetype": "text/x-python",
      "name": "python",
      "nbconvert_exporter": "python",
      "pygments_lexer": "ipython3",
      "version": "3.11.0"
    }
  },
  "nbformat": 4,
  "nbformat_minor": 4
}
